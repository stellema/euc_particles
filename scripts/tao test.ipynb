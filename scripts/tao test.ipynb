{
 "cells": [
  {
   "cell_type": "code",
   "execution_count": 1,
   "metadata": {},
   "outputs": [],
   "source": [
    "import sys\n",
    "sys.path.append('/g/data1a/e14/as3189/OFAM/scripts/')\n",
    "import gsw\n",
    "import numpy as np\n",
    "import xarray as xr\n",
    "from scipy import stats\n",
    "from pathlib import Path\n",
    "from scipy import interpolate\n",
    "import matplotlib.pyplot as plt\n",
    "from main import paths, idx_1d, LAT_DEG, lx\n",
    "from matplotlib.offsetbox import AnchoredText\n",
    "from matplotlib.colors import LinearSegmentedColormap\n",
    "# Path to save figures, save data and OFAM model output.\n",
    "fpath, dpath, xpath, lpath = paths()\n",
    "tpath = Path('/g', 'data', 'e14', 'as3189', 'OFAM', 'TAO')"
   ]
  },
  {
   "cell_type": "code",
   "execution_count": null,
   "metadata": {
    "scrolled": true
   },
   "outputs": [],
   "source": [
    "T = 1\n",
    "freq = ['daily', 'monthy'][T]\n",
    "freqx = ['day', 'mon'][T]\n",
    "fx = ['dy', 'mon'][T]\n",
    "\n",
    "# Open data sets at each longitude.\n",
    "dU_165 = xr.open_dataset(tpath.joinpath('adcp0n165e_{}.cdf'.format(fx))).sel(lat=0, lon=165, depth=slice(10, 355))\n",
    "dU_190 = xr.open_dataset(tpath.joinpath('adcp0n170w_{}.cdf'.format(fx))).sel(lat=0, lon=190, depth=slice(10, 355))\n",
    "dU_220 = xr.open_dataset(tpath.joinpath('adcp0n140w_{}.cdf'.format(fx))).sel(lat=0, lon=220, depth=slice(10, 355))\n",
    "# print(dU_165.u_1205)\n",
    "# print(dU_190.u_1205)\n",
    "# print(dU_220.u_1205)\n",
    "\n",
    "missing_value = dU_165.missing_value # 1e35\n",
    "\n",
    "# Remove empty times?\n",
    "du_165 = dU_165.where(dU_165['u_1205'] != missing_value)\n",
    "du_190 = dU_190.where(dU_190['u_1205'] != missing_value)\n",
    "du_220 = dU_220.where(dU_220['u_1205'] != missing_value)\n",
    "\n",
    "# Drop empty values.\n",
    "du_dropped_165 = dU_165.where(du_165['u_1205'] != missing_value, drop=True)\n",
    "du_dropped_190 = dU_190.where(du_190['u_1205'] != missing_value, drop=True)\n",
    "du_dropped_220 = dU_220.where(du_220['u_1205'] != missing_value, drop=True)"
   ]
  },
  {
   "cell_type": "markdown",
   "metadata": {},
   "source": [
    "# Plot multiple subplots"
   ]
  },
  {
   "cell_type": "code",
   "execution_count": null,
   "metadata": {},
   "outputs": [],
   "source": [
    "lons = [165, 190, 220]\n",
    "ds = [du_165, du_190, du_220]\n",
    "\n",
    "def plot_tao(fig, z, t, u, i, name):\n",
    "    cmap = plt.cm.seismic\n",
    "    cmap.set_bad('lightgrey') \n",
    "    ax = fig.add_subplot(1, 3, i)\n",
    "    ax.set_title(name, loc='left')\n",
    "    im = ax.pcolormesh(t, z, u, cmap=cmap, vmax=120, vmin=-120)\n",
    "    ax.set_ylim(355, 10)\n",
    "    plt.colorbar(im, shrink=1, orientation='horizontal', extend='both')\n",
    "    if i == 1:\n",
    "        ax.set_ylabel('Depth [m]')"
   ]
  },
  {
   "cell_type": "code",
   "execution_count": null,
   "metadata": {},
   "outputs": [],
   "source": [
    "fig = plt.figure(figsize=(18, 6))\n",
    "for i in range(3):\n",
    "    lon = lons[i]\n",
    "    du = ds[i]\n",
    "    name = '{}TAO/TRITION EUC at {}°E ({})'.format(lx['l'][i], lon, freq)\n",
    "    \n",
    "    z = du.depth\n",
    "    t = du.time \n",
    "    u = du.u_1205.transpose('depth', 'time')\n",
    "    plot_tao(fig, z, t, u, i+1, name)\n",
    "save_name = 'tao_original_{}.png'.format(freqx)\n",
    "plt.savefig(fpath.joinpath('tao', save_name))\n",
    "plt.show()"
   ]
  },
  {
   "cell_type": "code",
   "execution_count": null,
   "metadata": {},
   "outputs": [],
   "source": [
    "fig = plt.figure(figsize=(18, 6))\n",
    "for i in range(3):\n",
    "    lon = lons[i]\n",
    "    du = ds[i]\n",
    "    name = '{}TAO/TRITION EUC at {}°E ({}, linear)'.format(lx['l'][i], lon, freq)\n",
    "    t = du.depth.values\n",
    "    z = np.arange(len(du.time))\n",
    "    u = du.u_1205.values\n",
    "    u_mask = np.ma.masked_invalid(u)\n",
    "    tt, zz = np.meshgrid(t, z)\n",
    "    t1 = tt[~u_mask.mask]\n",
    "    z1 = zz[~u_mask.mask]\n",
    "    u_masked = u_mask[~u_mask.mask]\n",
    "    gn = interpolate.griddata((t1, z1), u_masked.ravel(),(tt, zz), method='linear')\n",
    "    plot_tao(fig, t, du.time, np.transpose(gn), i+1, name)\n",
    "save_name = 'tao_linear_{}.png'.format(freqx)\n",
    "plt.savefig(fpath.joinpath('tao', save_name))\n",
    "plt.show()"
   ]
  },
  {
   "cell_type": "code",
   "execution_count": null,
   "metadata": {},
   "outputs": [],
   "source": [
    "fig = plt.figure(figsize=(18, 6))\n",
    "for i in range(3):\n",
    "    lon = lons[i]\n",
    "    du = ds[i]\n",
    "    name = '{}TAO/TRITION EUC at {}°E ({}, nearest)'.format(lx['l'][i], lon, freq)\n",
    "    t = du.depth.values\n",
    "    z = np.arange(len(du.time))\n",
    "    u = du.u_1205.values\n",
    "    u_mask = np.ma.masked_invalid(u)\n",
    "    tt, zz = np.meshgrid(t, z)\n",
    "    t1 = tt[~u_mask.mask]\n",
    "    z1 = zz[~u_mask.mask]\n",
    "    u_masked = u_mask[~u_mask.mask]\n",
    "    gn = interpolate.griddata((t1, z1), u_masked.ravel(),(tt, zz), method='nearest')\n",
    "    plot_tao(fig, du.depth, du.time, np.transpose(gn), i+1, name)\n",
    "save_name = 'tao_nearest_{}.png'.format(freqx)\n",
    "plt.savefig(fpath.joinpath('tao', save_name))\n",
    "plt.show()"
   ]
  },
  {
   "cell_type": "code",
   "execution_count": null,
   "metadata": {},
   "outputs": [],
   "source": [
    "fig = plt.figure(figsize=(18, 6))\n",
    "for i in range(3):\n",
    "    lon = lons[i]\n",
    "    du = ds[i]\n",
    "    name = '{}TAO/TRITION EUC at {}°E ({}, linear -10)'.format(lx['l'][i], lon, freq)\n",
    "    t = du.depth.values\n",
    "    z = np.arange(len(du.time))\n",
    "    du.u_1205[:, -1] = -10\n",
    "    for n in range(len(du.u_1205[:, 0])):\n",
    "        if np.isnan(du.u_1205[n, 0]):\n",
    "            du.u_1205[n, 0] = 0 \n",
    "    u = du.u_1205.values\n",
    "    u_mask = np.ma.masked_invalid(u)\n",
    "    tt, zz = np.meshgrid(t, z)\n",
    "    t1 = tt[~u_mask.mask]\n",
    "    z1 = zz[~u_mask.mask]\n",
    "    u_masked = u_mask[~u_mask.mask]\n",
    "    gn = interpolate.griddata((t1, z1), u_masked.ravel(),(tt, zz), method='linear')\n",
    "    plot_tao(fig, du.depth, du.time, np.transpose(gn), i+1, name)\n",
    "save_name = 'tao_linear-10_{}.png'.format(freqx)\n",
    "plt.savefig(fpath.joinpath('tao', save_name))\n",
    "plt.show()"
   ]
  },
  {
   "cell_type": "code",
   "execution_count": null,
   "metadata": {},
   "outputs": [],
   "source": []
  },
  {
   "cell_type": "markdown",
   "metadata": {},
   "source": [
    "# Finding max velocity at each time ste"
   ]
  },
  {
   "cell_type": "code",
   "execution_count": null,
   "metadata": {},
   "outputs": [],
   "source": [
    "T = 0\n",
    "freq = ['daily', 'monthy'][T]\n",
    "freqx = ['day', 'mon'][T]\n",
    "fx = ['dy', 'mon'][T]\n",
    "\n",
    "# Open data sets at each longitude.\n",
    "dU_165 = xr.open_dataset(tpath.joinpath('adcp0n165e_{}.cdf'.format(fx))).sel(lat=0, lon=165, depth=slice(10, 355))\n",
    "dU_190 = xr.open_dataset(tpath.joinpath('adcp0n170w_{}.cdf'.format(fx))).sel(lat=0, lon=190, depth=slice(10, 355))\n",
    "dU_220 = xr.open_dataset(tpath.joinpath('adcp0n140w_{}.cdf'.format(fx))).sel(lat=0, lon=220, depth=slice(10, 355))\n",
    "# print(dU_165.u_1205)\n",
    "# print(dU_190.u_1205)\n",
    "# print(dU_220.u_1205)\n",
    "\n",
    "missing_value = dU_165.missing_value # 1e35\n",
    "\n",
    "# Remove empty times?\n",
    "du_165 = dU_165.where(dU_165['u_1205'] != missing_value)\n",
    "du_190 = dU_190.where(dU_190['u_1205'] != missing_value)\n",
    "du_220 = dU_220.where(dU_220['u_1205'] != missing_value)"
   ]
  },
  {
   "cell_type": "code",
   "execution_count": null,
   "metadata": {},
   "outputs": [],
   "source": []
  },
  {
   "cell_type": "code",
   "execution_count": null,
   "metadata": {},
   "outputs": [],
   "source": []
  },
  {
   "cell_type": "markdown",
   "metadata": {},
   "source": [
    "# Regression: Max velocity and bottom depth"
   ]
  },
  {
   "cell_type": "code",
   "execution_count": null,
   "metadata": {},
   "outputs": [],
   "source": [
    "def lower_depths(du, i):\n",
    "    u = np.ma.masked_invalid(du)\n",
    "    amx = np.nanargmax(u, axis=1)\n",
    "    umx = np.nanmax(u, axis=1)\n",
    "    amx = np.ma.masked_where(amx == 0, amx)\n",
    "    amn = amx.copy()*np.nan\n",
    "    depths = amx.copy()*np.nan\n",
    "    min_v = 20 # cm/s\n",
    "#     min_depth = 125 # m\n",
    "    eps = 2\n",
    "    count = 0\n",
    "    n = 0\n",
    "    for t in range(len(du.time)):\n",
    "        if not np.ma.is_masked(amx[t]):\n",
    "            end = np.ma.nonzero(u[t])[0][-1]\n",
    "            for z in np.arange(end, amx[t], -1):\n",
    "                if u[t, z] >= min_v + eps and z == end and not np.ma.is_masked(u[t, z]):\n",
    "                    break\n",
    "                elif u[t, z] >= min_v - eps and u[t, z] <= min_v + eps and not np.ma.is_masked(u[t, z]):\n",
    "                    tmp = u[t, idx_1d(u[t, z-1:], min_v) + z-1]\n",
    "                    amn[t] = np.argwhere(u[t] == tmp)[-1][-1]\n",
    "                    depths[t] = du.depth[int(amn[t])]\n",
    "#                     if depths[t] < min_depth:\n",
    "#                         amn[t] = np.nan\n",
    "#                         depths[t] = np.nan\n",
    "#                         break\n",
    "#                     else:\n",
    "                    count += 1\n",
    "                    break\n",
    "\n",
    "    print(count, len(du.time), 'Diff=', len(du.time) - count, 'eps=', eps)   \n",
    "    return umx, depths\n",
    "\n",
    "def max_depths(du, i):\n",
    "    u = np.ma.masked_invalid(du)\n",
    "    amx = np.nanargmax(u, axis=1)\n",
    "    umx = np.nanmax(u, axis=1)\n",
    "    amx = np.ma.masked_where(amx == 0, amx)\n",
    "    amn = amx.copy()*np.nan\n",
    "    depths = amx.copy()*np.nan\n",
    "    min_v = 20 # cm/s\n",
    "    min_depth = 125 # m\n",
    "    eps = 2\n",
    "    count = 0\n",
    "    n = 0\n",
    "    for t in range(len(du.time)):\n",
    "        if not np.ma.is_masked(amx[t]):\n",
    "            depths[t] = du.depth[int(amx[t])]\n",
    "    return umx, depths"
   ]
  },
  {
   "cell_type": "code",
   "execution_count": null,
   "metadata": {},
   "outputs": [],
   "source": [
    "def cor_scatter_plot(fig, i, umx, depths, name=None):\n",
    "#     var0 = umx[np.logical_not(np.isnan(depths))]\n",
    "#     var1 = depths[np.logical_not(np.isnan(depths))]\n",
    "    var0 = umx[np.ma.nonzero(depths)]\n",
    "    var1 = depths[np.ma.nonzero(depths)]\n",
    "    var0 = var0[~np.isnan(var1)]\n",
    "    var1 = var1[~np.isnan(var1)]\n",
    "    print(var0.shape, umx.shape)\n",
    "    cor = stats.spearmanr(var0, var1)\n",
    "    print(cor)\n",
    "    slope, intercept, r_value, p_value, std_err = stats.linregress(var0, var1)\n",
    "    print('slope={:.2f}, intercept={:.2f}, r_value={:.2f}, p_value={:.2f}, std_err={:.2f}'\n",
    "          .format(slope, intercept, r_value, p_value, std_err))\n",
    "    \n",
    "    ax = fig.add_subplot(1, 3, i)\n",
    "    ax.set_title(name, loc='left')\n",
    "    ax.scatter(umx, depths, color='b', s=8)\n",
    "\n",
    "    atext = AnchoredText('$\\mathregular{r_s}$=' + str(np.around(cor[0], 2)) + \n",
    "                         ', p=' + str(np.around(cor[1], 3)), loc=3)\n",
    "    ax.add_artist(atext)\n",
    "    ax.plot(np.unique(var0), np.poly1d(np.polyfit(var0, var1, 1)) (np.unique(var0)), 'k')\n",
    "    line = slope*var0+intercept\n",
    "    plt.plot(var0, line, 'r', label='y={:.2f}x+{:.2f}'.format(slope, intercept))\n",
    "    ax.set_xlabel('Max velocity [cm/s]')\n",
    "    ax.set_ylabel('Bottom depth [m]')\n",
    "    ax.legend(fontsize=9)\n",
    "    return "
   ]
  },
  {
   "cell_type": "code",
   "execution_count": null,
   "metadata": {},
   "outputs": [],
   "source": [
    "fig = plt.figure(figsize=(16, 5))\n",
    "for i, du in enumerate([du_165.u_1205, du_190.u_1205, du_220.u_1205]):\n",
    "    umx, depths = max_depths(du, i)\n",
    "    name = 'EUC depth and max velocity at {}°E ({})'.format(lons[i], freq)\n",
    "    cor_scatter_plot(fig, i+1, umx, depths, name=name)\n",
    "plt.savefig(fpath.joinpath('tao', 'max_velocity_max_depth_cor_{}.png'.format(freqx)))"
   ]
  },
  {
   "cell_type": "code",
   "execution_count": null,
   "metadata": {},
   "outputs": [],
   "source": [
    "fig = plt.figure(figsize=(16, 5))\n",
    "for i, du in enumerate([du_165.u_1205, du_190.u_1205, du_220.u_1205]):\n",
    "    umx, depths = lower_depths(du, i)\n",
    "    name = 'EUC lower depth and max velocity at {}°E ({})'.format(lons[i], freq)\n",
    "    cor_scatter_plot(fig, i+1, umx, depths, name=name)\n",
    "plt.savefig(fpath.joinpath('tao', 'max_velocity_lower_depth_cor_{}.png'.format(freqx)))"
   ]
  },
  {
   "cell_type": "code",
   "execution_count": null,
   "metadata": {},
   "outputs": [],
   "source": [
    "var0 = umx[np.ma.nonzero(depths)]\n",
    "var1 = depths[np.ma.nonzero(depths)]\n",
    "var0 = var0[~np.isnan(var1)]\n",
    "var1 = var1[~np.isnan(var1)]\n",
    "var0[:100]"
   ]
  },
  {
   "cell_type": "markdown",
   "metadata": {},
   "source": [
    "# Interpolating OFAM3 depth to every 5 m\n"
   ]
  },
  {
   "cell_type": "code",
   "execution_count": null,
   "metadata": {},
   "outputs": [],
   "source": [
    "du = du_190.u_1205\n",
    "t = -1\n",
    "y = du[t].values\n",
    "x = du[t].depth.values\n",
    "\n",
    "f = interpolate.interp1d(x, y, kind='slinear')\n",
    "z = np.arange(10, x[-1]+1, 5)\n",
    "f(z)"
   ]
  },
  {
   "cell_type": "code",
   "execution_count": 3,
   "metadata": {},
   "outputs": [],
   "source": [
    "files = []\n",
    "for y in range(lx['years'][0][0], lx['years'][0][1]+1):\n",
    "    for m in range(1, 13):\n",
    "        files.append(str(xpath.joinpath('ocean_u_{}_{:02d}.nc'.format(y, m))))"
   ]
  },
  {
   "cell_type": "code",
   "execution_count": 4,
   "metadata": {},
   "outputs": [
    {
     "data": {
      "text/plain": [
       "<xarray.Dataset>\n",
       "Dimensions:         (Time: 11688, nv: 2, st_edges_ocean: 52, st_ocean: 51, xu_ocean: 1750, yu_ocean: 300)\n",
       "Coordinates:\n",
       "  * xu_ocean        (xu_ocean) float64 120.0 120.1 120.2 ... 294.7 294.8 294.9\n",
       "  * nv              (nv) float64 1.0 2.0\n",
       "  * st_ocean        (st_ocean) float64 2.5 7.5 12.5 ... 3.603e+03 4.509e+03\n",
       "  * st_edges_ocean  (st_edges_ocean) float64 0.0 5.0 10.0 ... 4.056e+03 5e+03\n",
       "  * yu_ocean        (yu_ocean) float64 -15.0 -14.9 -14.8 ... 14.7 14.8 14.9\n",
       "  * Time            (Time) object 1981-01-01 12:00:00 ... 2012-12-31 12:00:00\n",
       "Data variables:\n",
       "    Time_bounds     (Time, nv) timedelta64[ns] dask.array<chunksize=(31, 2), meta=np.ndarray>\n",
       "    average_DT      (Time) timedelta64[ns] dask.array<chunksize=(31,), meta=np.ndarray>\n",
       "    average_T1      (Time) datetime64[ns] dask.array<chunksize=(31,), meta=np.ndarray>\n",
       "    average_T2      (Time) datetime64[ns] dask.array<chunksize=(31,), meta=np.ndarray>\n",
       "    u               (Time, st_ocean, yu_ocean, xu_ocean) float32 dask.array<chunksize=(31, 51, 300, 1750), meta=np.ndarray>\n",
       "Attributes:\n",
       "    filename:       TMP/ocean_ofam_1981_01.nc.0000\n",
       "    NumFilesInSet:  720\n",
       "    title:          jra_55_1979\n",
       "    grid_type:      regular\n",
       "    history:        Thu Jul 18 16:24:24 2019: ncks -O -d yu_ocean,-15.0,14.9 ...\n",
       "    NCO:            netCDF Operators version 4.7.7 (Homepage = http://nco.sf...."
      ]
     },
     "execution_count": 4,
     "metadata": {},
     "output_type": "execute_result"
    }
   ],
   "source": [
    "ds = xr.open_mfdataset(files, combine='by_coords')\n",
    "ds"
   ]
  },
  {
   "cell_type": "code",
   "execution_count": 12,
   "metadata": {},
   "outputs": [],
   "source": [
    "dm = ds.sel(xu_ocean=[165, 190, 220], yu_ocean=slice(-2.6, 2.6), st_ocean=slice(2.5, 485))"
   ]
  },
  {
   "cell_type": "code",
   "execution_count": 13,
   "metadata": {},
   "outputs": [],
   "source": [
    "df = dm.resample(Time=\"MS\").mean()"
   ]
  },
  {
   "cell_type": "code",
   "execution_count": 14,
   "metadata": {},
   "outputs": [
    {
     "data": {
      "text/plain": [
       "<xarray.Dataset>\n",
       "Dimensions:         (Time: 384, nv: 2, st_edges_ocean: 52, st_ocean: 32, xu_ocean: 3, yu_ocean: 53)\n",
       "Coordinates:\n",
       "  * Time            (Time) object 1981-01-01 00:00:00 ... 2012-12-01 00:00:00\n",
       "  * xu_ocean        (xu_ocean) float64 165.0 190.0 220.0\n",
       "  * nv              (nv) float64 1.0 2.0\n",
       "  * st_ocean        (st_ocean) float64 2.5 7.5 12.5 17.52 ... 325.9 373.2 427.1\n",
       "  * st_edges_ocean  (st_edges_ocean) float64 0.0 5.0 10.0 ... 4.056e+03 5e+03\n",
       "  * yu_ocean        (yu_ocean) float64 -2.6 -2.5 -2.4 -2.3 ... 2.3 2.4 2.5 2.6\n",
       "Data variables:\n",
       "    Time_bounds     (Time, nv) timedelta64[ns] dask.array<chunksize=(1, 2), meta=np.ndarray>\n",
       "    average_DT      (Time) timedelta64[ns] dask.array<chunksize=(1,), meta=np.ndarray>\n",
       "    u               (Time, st_ocean, yu_ocean, xu_ocean) float32 dask.array<chunksize=(1, 32, 53, 3), meta=np.ndarray>"
      ]
     },
     "execution_count": 14,
     "metadata": {},
     "output_type": "execute_result"
    }
   ],
   "source": [
    "df"
   ]
  },
  {
   "cell_type": "code",
   "execution_count": 40,
   "metadata": {},
   "outputs": [
    {
     "name": "stdout",
     "output_type": "stream",
     "text": [
      "[-0.6078008  -0.59311247 -0.58107233]\n"
     ]
    },
    {
     "data": {
      "text/plain": [
       "<xarray.Dataset>\n",
       "Dimensions:         (Time: 384, nv: 2, st_edges_ocean: 52, st_ocean: 70, xu_ocean: 3, yu_ocean: 53)\n",
       "Coordinates:\n",
       "  * Time            (Time) object 1981-01-01 00:00:00 ... 2012-12-01 00:00:00\n",
       "  * xu_ocean        (xu_ocean) float64 165.0 190.0 220.0\n",
       "  * nv              (nv) float64 1.0 2.0\n",
       "  * st_edges_ocean  (st_edges_ocean) float64 0.0 5.0 10.0 ... 4.056e+03 5e+03\n",
       "  * yu_ocean        (yu_ocean) float64 -2.6 -2.5 -2.4 -2.3 ... 2.3 2.4 2.5 2.6\n",
       "  * st_ocean        (st_ocean) int64 10 15 20 25 30 35 ... 335 340 345 350 355\n",
       "Data variables:\n",
       "    Time_bounds     (Time, nv) timedelta64[ns] dask.array<chunksize=(1, 2), meta=np.ndarray>\n",
       "    average_DT      (Time) timedelta64[ns] dask.array<chunksize=(1,), meta=np.ndarray>\n",
       "    u               (Time, st_ocean, yu_ocean, xu_ocean) float32 dask.array<chunksize=(1, 70, 53, 3), meta=np.ndarray>"
      ]
     },
     "execution_count": 40,
     "metadata": {},
     "output_type": "execute_result"
    }
   ],
   "source": [
    "t = 0\n",
    "# print(df)\n",
    "print(df.u[t].sel(xu_ocean=190.,st_ocean=slice(7.5, 17.52))[:, 26].values)\n"
   ]
  },
  {
   "cell_type": "code",
   "execution_count": 43,
   "metadata": {},
   "outputs": [
    {
     "name": "stdout",
     "output_type": "stream",
     "text": [
      "[-0.60045663 -0.58711087 -0.57451055]\n"
     ]
    }
   ],
   "source": [
    "z = np.arange(10, 360, 5)\n",
    "# y = df.u[t].values\n",
    "# x = df[t].depth.values\n",
    "di = df.interp(st_ocean=z, method='slinear')\n",
    "# for t in range(len(df.Time)):\n",
    "# f = interpolate.interp1d(x, y, kind='slinear')\n",
    "# \n",
    "# # f(z)\n",
    "# di\n",
    "print(di.u[0].sel(xu_ocean=190.,st_ocean=slice(5, 20))[:, 26].values)"
   ]
  },
  {
   "cell_type": "markdown",
   "metadata": {},
   "source": [
    "# Calculating transport"
   ]
  },
  {
   "cell_type": "code",
   "execution_count": null,
   "metadata": {},
   "outputs": [],
   "source": [
    "dz = LAT_DEG*5\n",
    "L = 230*1000"
   ]
  },
  {
   "cell_type": "code",
   "execution_count": null,
   "metadata": {},
   "outputs": [],
   "source": [
    "t = 0\n",
    "np.sum((du[t]/100)*5*L)/1e6"
   ]
  },
  {
   "cell_type": "code",
   "execution_count": null,
   "metadata": {},
   "outputs": [],
   "source": [
    "2"
   ]
  },
  {
   "cell_type": "code",
   "execution_count": null,
   "metadata": {},
   "outputs": [],
   "source": []
  },
  {
   "cell_type": "code",
   "execution_count": null,
   "metadata": {},
   "outputs": [],
   "source": []
  },
  {
   "cell_type": "code",
   "execution_count": null,
   "metadata": {},
   "outputs": [],
   "source": []
  },
  {
   "cell_type": "code",
   "execution_count": null,
   "metadata": {},
   "outputs": [],
   "source": []
  }
 ],
 "metadata": {
  "kernelspec": {
   "display_name": "Python [conda env:analysis3-19.07]",
   "language": "python",
   "name": "conda-env-analysis3-19.07-py"
  },
  "language_info": {
   "codemirror_mode": {
    "name": "ipython",
    "version": 3
   },
   "file_extension": ".py",
   "mimetype": "text/x-python",
   "name": "python",
   "nbconvert_exporter": "python",
   "pygments_lexer": "ipython3",
   "version": "3.6.7"
  }
 },
 "nbformat": 4,
 "nbformat_minor": 2
}
