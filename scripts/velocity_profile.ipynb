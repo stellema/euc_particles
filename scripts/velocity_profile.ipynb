{
 "cells": [
  {
   "cell_type": "code",
   "execution_count": null,
   "metadata": {},
   "outputs": [
    {
     "name": "stderr",
     "output_type": "stream",
     "text": [
      "/g/data3/hh5/public/apps/miniconda3/envs/analysis3-19.07/lib/python3.6/site-packages/xarray/backends/api.py:783: FutureWarning: In xarray version 0.13 `auto_combine` will be deprecated.\n",
      "  coords=coords)\n",
      "/g/data3/hh5/public/apps/miniconda3/envs/analysis3-19.07/lib/python3.6/site-packages/xarray/backends/api.py:783: FutureWarning: The datasets supplied have global dimension coordinates. You may want\n",
      "to use the new `combine_by_coords` function (or the\n",
      "`combine='by_coords'` option to `open_mfdataset` to order the datasets\n",
      "before concatenation. Alternatively, to continue concatenating based\n",
      "on the order the datasets are supplied in in future, please use the\n",
      "new `combine_nested` function (or the `combine='nested'` option to\n",
      "open_mfdataset).\n",
      "  coords=coords)\n",
      "/g/data3/hh5/public/apps/miniconda3/envs/analysis3-19.07/lib/python3.6/site-packages/dask/array/numpy_compat.py:41: RuntimeWarning: invalid value encountered in true_divide\n",
      "  x = np.divide(x1, x2, out)\n"
     ]
    }
   ],
   "source": [
    "%matplotlib inline\n",
    "import sys\n",
    "import cftime\n",
    "import string\n",
    "import warnings\n",
    "import calendar\n",
    "import numpy as np\n",
    "import xarray as xr\n",
    "import nc_time_axis\n",
    "from pathlib import Path\n",
    "import matplotlib.pyplot as plt\n",
    "from main import paths, im_ext, idx_1d\n",
    "\n",
    "# Path to save figures, save data and OFAM model output.\n",
    "fpath, dpath, xpath = paths()\n",
    "# Letters for plot titles.\n",
    "l = [i + ') ' for i in list(string.ascii_lowercase)]\n",
    "\n",
    "plt.rcParams['figure.facecolor'] = 'grey'\n",
    "files = []\n",
    "year = [1979, 2014]\n",
    "for y in range(year[0], year[-1] + 1):\n",
    "    for i, m in enumerate(range(1, 13)):\n",
    "        files.append(xpath.joinpath('ocean_u_{}_{:02d}.nc'.format(y, m)))\n",
    "ds = xr.open_mfdataset(files)\n",
    "ds = ds.groupby('Time.month').mean('Time').mean('month')\n",
    "# The depth level closest to the given depth value.\n",
    "depth = ds.st_ocean[idx_1d(ds.st_ocean, 450)].item()\n",
    "\n",
    "du = ds.u.sel(yu_ocean=slice(-4.0, 4.0), st_ocean=slice(2.5, depth))\n",
    "Y = du.yu_ocean.values\n",
    "Z = du.st_ocean.values\n",
    "X = np.arange(150, 300, 10) # Longitudes to plot.\n",
    "\n",
    "for x in X:\n",
    "    vmax = 0.6\n",
    "    fig = plt.figure(figsize=(10, 10))\n",
    "    # ax = fig.add_subplot(1, 1, 1)\n",
    "    plt.title('Zonal velocity at {}\\u00b0E during {}-{}'.format(x, *year), loc='left')\n",
    "    cs = plt.pcolormesh(Y, Z, du.sel(xu_ocean=x), vmin=-vmax, vmax=vmax + 0.01, cmap=plt.cm.seismic)\n",
    "    plt.ylim(depth, 0)\n",
    "    plt.yticks(np.arange(0, depth, 50))\n",
    "    plt.ylabel('Depth [m]')\n",
    "    plt.xlabel('Latitude [\\u00b0]')\n",
    "    fig.colorbar(cs, extend='both')\n",
    "    plt.grid(axis='both', color='k')\n",
    "    plt.show()\n",
    "    plt.savefig(fpath.joinpath('velocity_profile', 'u_profile_{}-{}_{}E{}'.format(*year, x, im_ext)))"
   ]
  },
  {
   "cell_type": "code",
   "execution_count": null,
   "metadata": {
    "scrolled": true
   },
   "outputs": [],
   "source": []
  }
 ],
 "metadata": {
  "kernelspec": {
   "display_name": "Python [conda env:analysis3-19.07] *",
   "language": "python",
   "name": "conda-env-analysis3-19.07-py"
  },
  "language_info": {
   "codemirror_mode": {
    "name": "ipython",
    "version": 3
   },
   "file_extension": ".py",
   "mimetype": "text/x-python",
   "name": "python",
   "nbconvert_exporter": "python",
   "pygments_lexer": "ipython3",
   "version": "3.6.7"
  }
 },
 "nbformat": 4,
 "nbformat_minor": 2
}
