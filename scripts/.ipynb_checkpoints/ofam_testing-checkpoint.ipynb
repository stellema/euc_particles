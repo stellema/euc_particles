{
 "cells": [
  {
   "cell_type": "code",
   "execution_count": null,
   "metadata": {},
   "outputs": [],
   "source": [
    "\n",
    "import time\n",
    "import warnings\n",
    "import xarray as xr\n",
    "import numpy as np\n",
    "from operator import attrgetter\n",
    "from datetime import timedelta\n",
    "# from main import LAT_DEG, paths, years_to_days, ofam_fields\n",
    "# from main import DeleteParticle, plot3D, particle_vars, remove_particles\n",
    "from parcels import ParticleSet, JITParticle, ScipyParticle, FieldSet\n",
    "from parcels import AdvectionRK4_3D, Variable, ErrorCode\n",
    "from os.path import expanduser"
   ]
  },
  {
   "cell_type": "code",
   "execution_count": null,
   "metadata": {},
   "outputs": [],
   "source": []
  },
  {
   "cell_type": "code",
   "execution_count": null,
   "metadata": {},
   "outputs": [],
   "source": [
    "def DeleteParticle(particle, fieldset, time):\n",
    "    particle.delete()\n",
    "def paths():\n",
    "    unsw = 0 # True if at UNSW PC.\n",
    "    \n",
    "    os_path = expanduser(\"~\")\n",
    "    \n",
    "    # Windows Paths.\n",
    "    if os_path[:10] == 'C:\\\\Users\\\\A':\n",
    "        home = 'C:/Users/Annette/' if unsw else 'E:/'\n",
    "        fpath = home + 'GitHub/OFAM/figures/'\n",
    "        dpath = home + 'GitHub/OFAM/data/'\n",
    "        xpath = home + 'model_output/OFAM/trop_pac/'\n",
    "\n",
    "    # Raijin Paths.\n",
    "    else:\n",
    "        os_path = '/g/data/e14/as3189/'\n",
    "        fpath = '/g/data/e14/as3189/OFAM/figures/'\n",
    "        dpath = '/g/data/e14/as3189/OFAM/data/'\n",
    "        xpath = '/g/data/e14/as3189/OFAM/trop_pac/'\n",
    "\n",
    "    return fpath, dpath, xpath\n",
    "fpath, dpath, xpath = paths()\n",
    "def ofam_fields(years=[1984, 2014], months=[1, 12], deferred_load=False):\n",
    "\n",
    "    uf, vf, wf = [], [], []\n",
    " \n",
    "    for y in range(years[0], years[1] + 1):\n",
    "        for m in range(months[0], months[1] + 1):\n",
    "            uf.append('{}ocean_u_{}_{:02d}.nc'.format(xpath, y, m))\n",
    "            vf.append('{}ocean_v_{}_{:02d}.nc'.format(xpath, y, m))\n",
    "            wf.append('{}ocean_w_{}_{:02d}.nc'.format(xpath, y, m))\n",
    "            \n",
    "    filenames = {'U': {'lon': uf[0], 'lat': uf[0], 'depth': wf[0], 'data': uf},\n",
    "                 'V': {'lon': uf[0], 'lat': uf[0], 'depth': wf[0], 'data': vf},\n",
    "                 'W': {'lon': uf[0], 'lat': uf[0], 'depth': wf[0], 'data': wf}}\n",
    "            \n",
    "    variables = {'U': 'u', 'V': 'v', 'W': 'w'}\n",
    "    \n",
    "    dimensions = {'U': {'lon': 'xu_ocean', 'lat': 'yu_ocean', 'depth': 'sw_ocean', 'time': 'Time'},\n",
    "                  'V': {'lon': 'xu_ocean', 'lat': 'yu_ocean', 'depth': 'sw_ocean', 'time': 'Time'},\n",
    "                  'W': {'lon': 'xu_ocean', 'lat': 'yu_ocean', 'depth': 'sw_ocean', 'time': 'Time'}}            \n",
    "\n",
    "    f = FieldSet.from_b_grid_dataset(filenames, variables, dimensions, mesh='flat', \n",
    "                                     time_periodic=True, deferred_load=deferred_load)\n",
    "\n",
    "    return f"
   ]
  },
  {
   "cell_type": "code",
   "execution_count": null,
   "metadata": {},
   "outputs": [],
   "source": [
    "years = [2014, 2014]\n",
    "months = [12, 12]\n",
    "\n",
    "\n",
    "start = time.time()\n",
    "\n",
    "# Create the fieldset.\n",
    "fieldset = ofam_fields(years=years, months=months)\n",
    "print('Execution time (field): {:.2f} mins'.format((time.time() - start)/60))"
   ]
  },
  {
   "cell_type": "code",
   "execution_count": null,
   "metadata": {},
   "outputs": [],
   "source": [
    "uf, vf, wf = [], [], []\n",
    "\n",
    "for y in range(years[0], years[1] + 1):\n",
    "    for m in range(months[0], months[1] + 1):\n",
    "        uf.append('{}ocean_u_{}_{:02d}.nc'.format(xpath, y, m))\n",
    "        vf.append('{}ocean_v_{}_{:02d}.nc'.format(xpath, y, m))\n",
    "        wf.append('{}ocean_w_{}_{:02d}.nc'.format(xpath, y, m))\n",
    "du = xr.open_dataset(uf[0])\n",
    "dv = xr.open_dataset(vf[0])\n",
    "dw = xr.open_dataset(wf[0])"
   ]
  },
  {
   "cell_type": "code",
   "execution_count": null,
   "metadata": {},
   "outputs": [],
   "source": [
    "print(fieldset.V.eval(0, 10, 0.1, 180))\n",
    "print(np.round(fieldset.W.eval(0, 10, 0.1, 222), 9))"
   ]
  },
  {
   "cell_type": "code",
   "execution_count": null,
   "metadata": {},
   "outputs": [],
   "source": [
    "print(dv.v.isel(Time=0).sel(st_ocean=7.5, yu_ocean=0.1, xu_ocean=180, method='nearest'))\n",
    "print(dw.w.isel(Time=0).sel(sw_ocean=7.5, yt_ocean=0.1, xt_ocean=222, method='nearest'))"
   ]
  },
  {
   "cell_type": "code",
   "execution_count": null,
   "metadata": {},
   "outputs": [],
   "source": [
    "print(dw.sw_ocean)\n",
    "print(du.st_ocean)"
   ]
  },
  {
   "cell_type": "code",
   "execution_count": null,
   "metadata": {},
   "outputs": [],
   "source": [
    "\n",
    "\n",
    "pset = ParticleSet.from_line(fieldset=fieldset, pclass=JITParticle,\n",
    "                             size=5,            # releasing 5 particles\n",
    "                             depth=5,\n",
    "                             start=(180, -5),   # releasing on a line: the start longitude and latitude\n",
    "                             finish=(180, 5))  # releasing on a line: the end longitude and latitude\n",
    "\n"
   ]
  },
  {
   "cell_type": "code",
   "execution_count": null,
   "metadata": {},
   "outputs": [],
   "source": [
    "pset.execute(AdvectionRK4_3D,\n",
    "             runtime=timedelta(days=10),\n",
    "             dt=timedelta(minutes=5),\n",
    "             output_file=pset.ParticleFile(name=\"GlobCurrentPart.nc\", outputdt=timedelta(hours=6)),\n",
    "            recovery={ErrorCode.ErrorOutOfBounds: DeleteParticle})"
   ]
  },
  {
   "cell_type": "code",
   "execution_count": null,
   "metadata": {},
   "outputs": [],
   "source": [
    "\n",
    "pset.show(field=fieldset.W)\n"
   ]
  },
  {
   "cell_type": "markdown",
   "metadata": {},
   "source": [
    "##### print(du.xu_ocean)\n",
    "print(dw.xt_ocean)\n"
   ]
  },
  {
   "cell_type": "code",
   "execution_count": null,
   "metadata": {},
   "outputs": [],
   "source": [
    "print(du.yu_ocean)\n",
    "print(dw.yt_ocean)"
   ]
  },
  {
   "cell_type": "code",
   "execution_count": null,
   "metadata": {},
   "outputs": [],
   "source": [
    "print(dv.xu_ocean)\n",
    "print(dw.xt_ocean)"
   ]
  },
  {
   "cell_type": "code",
   "execution_count": null,
   "metadata": {},
   "outputs": [],
   "source": [
    "print(dv.yu_ocean)\n",
    "print(dw.yt_ocean)\n"
   ]
  },
  {
   "cell_type": "code",
   "execution_count": null,
   "metadata": {},
   "outputs": [],
   "source": [
    "ufiles = []\n",
    "vfiles = []\n",
    "wfiles = []\n",
    "\n",
    "for y in range(years[0], years[1] + 1):\n",
    "    for m in range(months[0], months[1] + 1):\n",
    "        ufiles.append('{}ocean_u_{}_{}_.nc'.format(data_path, str(y), \n",
    "                      str(m).zfill(2)))\n",
    "        vfiles.append('{}ocean_v_{}_{}_.nc'.format(data_path, str(y), \n",
    "                      str(m).zfill(2)))\n",
    "        wfiles.append('{}ocean_w_{}_{}.nc'.format(data_path, str(y), \n",
    "                      str(m).zfill(2)))\n",
    "\n",
    "filenames = {'U': {'lon': ufiles[0], 'lat': ufiles[0], 'depth': ufiles[0], 'data': ufiles},\n",
    "             'V': {'lon': vfiles[0], 'lat': vfiles[0], 'depth': vfiles[0], 'data': vfiles},\n",
    "             'W': {'lon': wfiles[0], 'lat': wfiles[0], 'depth': wfiles[0], 'data': wfiles}}\n",
    "variables = {'U': 'u', 'V': 'v', 'W': 'w'}\n",
    "\n",
    "dimensions = {'U': {'lon': 'xu_ocean', 'lat': 'yu_ocean', 'depth': 'st_ocean', 'time': 'Time'},\n",
    "              'V': {'lon': 'xu_ocean', 'lat': 'yu_ocean', 'depth': 'st_ocean', 'time': 'Time'},\n",
    "              'W': {'lon': 'xt_ocean', 'lat': 'yt_ocean', 'depth': 'sw_ocean', 'time': 'Time'}} "
   ]
  },
  {
   "cell_type": "code",
   "execution_count": null,
   "metadata": {},
   "outputs": [],
   "source": [
    "du.attrs\n",
    "if 'U' in dimensions and 'W' in dimensions and dimensions['U'] != dimensions['W']:"
   ]
  },
  {
   "cell_type": "code",
   "execution_count": null,
   "metadata": {},
   "outputs": [],
   "source": [
    "dimensions['W']"
   ]
  },
  {
   "cell_type": "code",
   "execution_count": null,
   "metadata": {},
   "outputs": [],
   "source": [
    "'W' in dimensions"
   ]
  },
  {
   "cell_type": "code",
   "execution_count": null,
   "metadata": {},
   "outputs": [],
   "source": [
    "du.attrs"
   ]
  },
  {
   "cell_type": "code",
   "execution_count": null,
   "metadata": {},
   "outputs": [],
   "source": [
    "du.u"
   ]
  },
  {
   "cell_type": "code",
   "execution_count": null,
   "metadata": {},
   "outputs": [],
   "source": [
    "import os.path"
   ]
  },
  {
   "cell_type": "code",
   "execution_count": null,
   "metadata": {},
   "outputs": [],
   "source": [
    "os.path.expanduser(\"~\")"
   ]
  },
  {
   "cell_type": "code",
   "execution_count": null,
   "metadata": {},
   "outputs": [],
   "source": []
  }
 ],
 "metadata": {
  "kernelspec": {
   "display_name": "Python [conda env:analysis3-19.07]",
   "language": "python",
   "name": "conda-env-analysis3-19.07-py"
  },
  "language_info": {
   "codemirror_mode": {
    "name": "ipython",
    "version": 3
   },
   "file_extension": ".py",
   "mimetype": "text/x-python",
   "name": "python",
   "nbconvert_exporter": "python",
   "pygments_lexer": "ipython3",
   "version": "3.6.7"
  }
 },
 "nbformat": 4,
 "nbformat_minor": 2
}
