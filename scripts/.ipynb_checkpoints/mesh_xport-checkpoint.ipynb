{
 "cells": [
  {
   "cell_type": "code",
   "execution_count": 8,
   "metadata": {},
   "outputs": [],
   "source": [
    "import numpy as np\n",
    "import xarray as xr\n",
    "from main import paths, idx_1d, LAT_DEG\n",
    "\n",
    "# Path to save figures, save data and OFAM model output.\n",
    "fpath, dpath, xpath = paths()"
   ]
  },
  {
   "cell_type": "code",
   "execution_count": 25,
   "metadata": {},
   "outputs": [],
   "source": [
    "# Longitudes to integrate velocity.\n",
    "# 143E, 156E, 165E, 170E, 180E, 170W, 155W, 140W, 125W, 110W, 95W\n",
    "lons = [180]#[143, 156, 165, 170, 180, 190, 205, 220, 235, 250, 265]\n",
    "# Depth integration boundaries.\n",
    "# NOTE: slice will find the closest, but probably smallest depth level.\n",
    "levs = [0, 400]\n",
    "# latitude integration boundaries. \n",
    "# NOTE must add 0.1 deg when slicing.\n",
    "lats = [-0.5, 0.5]\n",
    "# Climatology year range.\n",
    "year = [1981, 2012]\n",
    "\n",
    "# Open dataset containing the monthly mean climatololgy (see climo.py).\n",
    "clim = xr.open_dataset(xpath.joinpath('ocean_u_{}-{}_climo.nc'.format(*year)))\n",
    "\n",
    "# Slice dataset (so integration bounds do not need to be explicitly supplied).\n",
    "ds = clim.sel(st_ocean=slice(levs[0], levs[-1]), \n",
    "              yu_ocean=slice(lats[0], lats[-1] + 0.1), \n",
    "              xu_ocean=lons)\n",
    "\n",
    "# Find indexes of each depth level for depth bounds. \n",
    "# NOTE must calculate on unsliced dataset.\n",
    "k0 = idx_1d(clim.st_ocean, levs[0])\n",
    "k1 = idx_1d(clim.st_ocean, levs[-1])\n",
    "\n",
    "# Slice st_ocean_edges (used to calculate width of each grid cell 'dk').\n",
    "ds = ds.isel(st_edges_ocean=slice(k0+1, k1+2))\n",
    "\n",
    "# Width of grid cell [m].\n",
    "dy = 0.1 * LAT_DEG\n",
    "\n",
    "# Depth of each grid cell [m].\n",
    "dk = np.array([clim.st_edges_ocean[i+1].item() - clim.st_edges_ocean[i].item() \n",
    "               for i in range(len(ds.st_edges_ocean))])\n",
    "\n",
    "# Depth levels multiplied by grid width.\n",
    "dkdy = dk*dy\n",
    "\n",
    "# Array to save transport.\n",
    "uvo = np.zeros(ds.u.shape)"
   ]
  },
  {
   "cell_type": "code",
   "execution_count": 26,
   "metadata": {},
   "outputs": [
    {
     "ename": "KeyboardInterrupt",
     "evalue": "",
     "output_type": "error",
     "traceback": [
      "\u001b[0;31m---------------------------------------------------------------------------\u001b[0m",
      "\u001b[0;31mKeyboardInterrupt\u001b[0m                         Traceback (most recent call last)",
      "\u001b[0;32m<ipython-input-26-1311ace28ba7>\u001b[0m in \u001b[0;36m<module>\u001b[0;34m\u001b[0m\n\u001b[1;32m      4\u001b[0m         \u001b[0;32mfor\u001b[0m \u001b[0mt\u001b[0m \u001b[0;32min\u001b[0m \u001b[0mrange\u001b[0m\u001b[0;34m(\u001b[0m\u001b[0;36m12\u001b[0m\u001b[0;34m)\u001b[0m\u001b[0;34m:\u001b[0m\u001b[0;34m\u001b[0m\u001b[0;34m\u001b[0m\u001b[0m\n\u001b[1;32m      5\u001b[0m             \u001b[0;32mfor\u001b[0m \u001b[0mk\u001b[0m \u001b[0;32min\u001b[0m \u001b[0mrange\u001b[0m\u001b[0;34m(\u001b[0m\u001b[0mlen\u001b[0m\u001b[0;34m(\u001b[0m\u001b[0mds\u001b[0m\u001b[0;34m.\u001b[0m\u001b[0mst_ocean\u001b[0m\u001b[0;34m)\u001b[0m\u001b[0;34m)\u001b[0m\u001b[0;34m:\u001b[0m\u001b[0;34m\u001b[0m\u001b[0;34m\u001b[0m\u001b[0m\n\u001b[0;32m----> 6\u001b[0;31m                 \u001b[0;32mif\u001b[0m \u001b[0mds\u001b[0m\u001b[0;34m.\u001b[0m\u001b[0mu\u001b[0m\u001b[0;34m[\u001b[0m\u001b[0mt\u001b[0m\u001b[0;34m,\u001b[0m \u001b[0mk\u001b[0m\u001b[0;34m,\u001b[0m \u001b[0mj\u001b[0m\u001b[0;34m,\u001b[0m \u001b[0mi\u001b[0m\u001b[0;34m]\u001b[0m \u001b[0;34m>=\u001b[0m \u001b[0;36m0\u001b[0m\u001b[0;34m:\u001b[0m\u001b[0;34m\u001b[0m\u001b[0;34m\u001b[0m\u001b[0m\n\u001b[0m\u001b[1;32m      7\u001b[0m                     \u001b[0;31m# Velocity x Depth x Width (if travelling eastward).\u001b[0m\u001b[0;34m\u001b[0m\u001b[0;34m\u001b[0m\u001b[0;34m\u001b[0m\u001b[0m\n\u001b[1;32m      8\u001b[0m                     \u001b[0muvo\u001b[0m\u001b[0;34m[\u001b[0m\u001b[0mt\u001b[0m\u001b[0;34m,\u001b[0m \u001b[0mk\u001b[0m\u001b[0;34m,\u001b[0m \u001b[0mj\u001b[0m\u001b[0;34m,\u001b[0m \u001b[0mi\u001b[0m\u001b[0;34m]\u001b[0m \u001b[0;34m=\u001b[0m \u001b[0mds\u001b[0m\u001b[0;34m.\u001b[0m\u001b[0mu\u001b[0m\u001b[0;34m[\u001b[0m\u001b[0mt\u001b[0m\u001b[0;34m,\u001b[0m \u001b[0mk\u001b[0m\u001b[0;34m,\u001b[0m \u001b[0mj\u001b[0m\u001b[0;34m,\u001b[0m \u001b[0mi\u001b[0m\u001b[0;34m]\u001b[0m\u001b[0;34m*\u001b[0m\u001b[0mdkdy\u001b[0m\u001b[0;34m[\u001b[0m\u001b[0mk\u001b[0m\u001b[0;34m]\u001b[0m\u001b[0;34m\u001b[0m\u001b[0;34m\u001b[0m\u001b[0m\n",
      "\u001b[0;32m/g/data3/hh5/public/apps/miniconda3/envs/analysis3-19.07/lib/python3.6/site-packages/xarray/core/dataarray.py\u001b[0m in \u001b[0;36m__getitem__\u001b[0;34m(self, key)\u001b[0m\n\u001b[1;32m    558\u001b[0m         \u001b[0;32melse\u001b[0m\u001b[0;34m:\u001b[0m\u001b[0;34m\u001b[0m\u001b[0;34m\u001b[0m\u001b[0m\n\u001b[1;32m    559\u001b[0m             \u001b[0;31m# xarray-style array indexing\u001b[0m\u001b[0;34m\u001b[0m\u001b[0;34m\u001b[0m\u001b[0;34m\u001b[0m\u001b[0m\n\u001b[0;32m--> 560\u001b[0;31m             \u001b[0;32mreturn\u001b[0m \u001b[0mself\u001b[0m\u001b[0;34m.\u001b[0m\u001b[0misel\u001b[0m\u001b[0;34m(\u001b[0m\u001b[0mindexers\u001b[0m\u001b[0;34m=\u001b[0m\u001b[0mself\u001b[0m\u001b[0;34m.\u001b[0m\u001b[0m_item_key_to_dict\u001b[0m\u001b[0;34m(\u001b[0m\u001b[0mkey\u001b[0m\u001b[0;34m)\u001b[0m\u001b[0;34m)\u001b[0m\u001b[0;34m\u001b[0m\u001b[0;34m\u001b[0m\u001b[0m\n\u001b[0m\u001b[1;32m    561\u001b[0m \u001b[0;34m\u001b[0m\u001b[0m\n\u001b[1;32m    562\u001b[0m     \u001b[0;32mdef\u001b[0m \u001b[0m__setitem__\u001b[0m\u001b[0;34m(\u001b[0m\u001b[0mself\u001b[0m\u001b[0;34m,\u001b[0m \u001b[0mkey\u001b[0m\u001b[0;34m:\u001b[0m \u001b[0mAny\u001b[0m\u001b[0;34m,\u001b[0m \u001b[0mvalue\u001b[0m\u001b[0;34m:\u001b[0m \u001b[0mAny\u001b[0m\u001b[0;34m)\u001b[0m \u001b[0;34m->\u001b[0m \u001b[0;32mNone\u001b[0m\u001b[0;34m:\u001b[0m\u001b[0;34m\u001b[0m\u001b[0;34m\u001b[0m\u001b[0m\n",
      "\u001b[0;32m/g/data3/hh5/public/apps/miniconda3/envs/analysis3-19.07/lib/python3.6/site-packages/xarray/core/dataarray.py\u001b[0m in \u001b[0;36misel\u001b[0;34m(self, indexers, drop, **indexers_kwargs)\u001b[0m\n\u001b[1;32m    928\u001b[0m         \"\"\"\n\u001b[1;32m    929\u001b[0m         \u001b[0mindexers\u001b[0m \u001b[0;34m=\u001b[0m \u001b[0meither_dict_or_kwargs\u001b[0m\u001b[0;34m(\u001b[0m\u001b[0mindexers\u001b[0m\u001b[0;34m,\u001b[0m \u001b[0mindexers_kwargs\u001b[0m\u001b[0;34m,\u001b[0m \u001b[0;34m'isel'\u001b[0m\u001b[0;34m)\u001b[0m\u001b[0;34m\u001b[0m\u001b[0;34m\u001b[0m\u001b[0m\n\u001b[0;32m--> 930\u001b[0;31m         \u001b[0mds\u001b[0m \u001b[0;34m=\u001b[0m \u001b[0mself\u001b[0m\u001b[0;34m.\u001b[0m\u001b[0m_to_temp_dataset\u001b[0m\u001b[0;34m(\u001b[0m\u001b[0;34m)\u001b[0m\u001b[0;34m.\u001b[0m\u001b[0misel\u001b[0m\u001b[0;34m(\u001b[0m\u001b[0mdrop\u001b[0m\u001b[0;34m=\u001b[0m\u001b[0mdrop\u001b[0m\u001b[0;34m,\u001b[0m \u001b[0mindexers\u001b[0m\u001b[0;34m=\u001b[0m\u001b[0mindexers\u001b[0m\u001b[0;34m)\u001b[0m\u001b[0;34m\u001b[0m\u001b[0;34m\u001b[0m\u001b[0m\n\u001b[0m\u001b[1;32m    931\u001b[0m         \u001b[0;32mreturn\u001b[0m \u001b[0mself\u001b[0m\u001b[0;34m.\u001b[0m\u001b[0m_from_temp_dataset\u001b[0m\u001b[0;34m(\u001b[0m\u001b[0mds\u001b[0m\u001b[0;34m)\u001b[0m\u001b[0;34m\u001b[0m\u001b[0;34m\u001b[0m\u001b[0m\n\u001b[1;32m    932\u001b[0m \u001b[0;34m\u001b[0m\u001b[0m\n",
      "\u001b[0;32m/g/data3/hh5/public/apps/miniconda3/envs/analysis3-19.07/lib/python3.6/site-packages/xarray/core/dataset.py\u001b[0m in \u001b[0;36misel\u001b[0;34m(self, indexers, drop, **indexers_kwargs)\u001b[0m\n\u001b[1;32m   1717\u001b[0m         \u001b[0mcoord_names\u001b[0m \u001b[0;34m=\u001b[0m \u001b[0mset\u001b[0m\u001b[0;34m(\u001b[0m\u001b[0mvariables\u001b[0m\u001b[0;34m)\u001b[0m\u001b[0;34m.\u001b[0m\u001b[0mintersection\u001b[0m\u001b[0;34m(\u001b[0m\u001b[0mself\u001b[0m\u001b[0;34m.\u001b[0m\u001b[0m_coord_names\u001b[0m\u001b[0;34m)\u001b[0m\u001b[0;34m\u001b[0m\u001b[0;34m\u001b[0m\u001b[0m\n\u001b[1;32m   1718\u001b[0m         selected = self._replace_with_new_dims(\n\u001b[0;32m-> 1719\u001b[0;31m             variables, coord_names, indexes)\n\u001b[0m\u001b[1;32m   1720\u001b[0m \u001b[0;34m\u001b[0m\u001b[0m\n\u001b[1;32m   1721\u001b[0m         \u001b[0;31m# Extract coordinates from indexers\u001b[0m\u001b[0;34m\u001b[0m\u001b[0;34m\u001b[0m\u001b[0;34m\u001b[0m\u001b[0m\n",
      "\u001b[0;32m/g/data3/hh5/public/apps/miniconda3/envs/analysis3-19.07/lib/python3.6/site-packages/xarray/core/dataset.py\u001b[0m in \u001b[0;36m_replace_with_new_dims\u001b[0;34m(self, variables, coord_names, attrs, indexes, inplace)\u001b[0m\n\u001b[1;32m    801\u001b[0m     ) -> 'Dataset':\n\u001b[1;32m    802\u001b[0m         \u001b[0;34m\"\"\"Replace variables with recalculated dimensions.\"\"\"\u001b[0m\u001b[0;34m\u001b[0m\u001b[0;34m\u001b[0m\u001b[0m\n\u001b[0;32m--> 803\u001b[0;31m         \u001b[0mdims\u001b[0m \u001b[0;34m=\u001b[0m \u001b[0mcalculate_dimensions\u001b[0m\u001b[0;34m(\u001b[0m\u001b[0mvariables\u001b[0m\u001b[0;34m)\u001b[0m\u001b[0;34m\u001b[0m\u001b[0;34m\u001b[0m\u001b[0m\n\u001b[0m\u001b[1;32m    804\u001b[0m         return self._replace(\n\u001b[1;32m    805\u001b[0m             variables, coord_names, dims, attrs, indexes, inplace=inplace)\n",
      "\u001b[0;32m/g/data3/hh5/public/apps/miniconda3/envs/analysis3-19.07/lib/python3.6/site-packages/xarray/core/dataset.py\u001b[0m in \u001b[0;36mcalculate_dimensions\u001b[0;34m(variables)\u001b[0m\n\u001b[1;32m    116\u001b[0m     \u001b[0mlast_used\u001b[0m \u001b[0;34m=\u001b[0m \u001b[0;34m{\u001b[0m\u001b[0;34m}\u001b[0m\u001b[0;34m\u001b[0m\u001b[0;34m\u001b[0m\u001b[0m\n\u001b[1;32m    117\u001b[0m     \u001b[0mscalar_vars\u001b[0m \u001b[0;34m=\u001b[0m \u001b[0mset\u001b[0m\u001b[0;34m(\u001b[0m\u001b[0mk\u001b[0m \u001b[0;32mfor\u001b[0m \u001b[0mk\u001b[0m\u001b[0;34m,\u001b[0m \u001b[0mv\u001b[0m \u001b[0;32min\u001b[0m \u001b[0mvariables\u001b[0m\u001b[0;34m.\u001b[0m\u001b[0mitems\u001b[0m\u001b[0;34m(\u001b[0m\u001b[0;34m)\u001b[0m \u001b[0;32mif\u001b[0m \u001b[0;32mnot\u001b[0m \u001b[0mv\u001b[0m\u001b[0;34m.\u001b[0m\u001b[0mdims\u001b[0m\u001b[0;34m)\u001b[0m\u001b[0;34m\u001b[0m\u001b[0;34m\u001b[0m\u001b[0m\n\u001b[0;32m--> 118\u001b[0;31m     \u001b[0;32mfor\u001b[0m \u001b[0mk\u001b[0m\u001b[0;34m,\u001b[0m \u001b[0mvar\u001b[0m \u001b[0;32min\u001b[0m \u001b[0mvariables\u001b[0m\u001b[0;34m.\u001b[0m\u001b[0mitems\u001b[0m\u001b[0;34m(\u001b[0m\u001b[0;34m)\u001b[0m\u001b[0;34m:\u001b[0m\u001b[0;34m\u001b[0m\u001b[0;34m\u001b[0m\u001b[0m\n\u001b[0m\u001b[1;32m    119\u001b[0m         \u001b[0;32mfor\u001b[0m \u001b[0mdim\u001b[0m\u001b[0;34m,\u001b[0m \u001b[0msize\u001b[0m \u001b[0;32min\u001b[0m \u001b[0mzip\u001b[0m\u001b[0;34m(\u001b[0m\u001b[0mvar\u001b[0m\u001b[0;34m.\u001b[0m\u001b[0mdims\u001b[0m\u001b[0;34m,\u001b[0m \u001b[0mvar\u001b[0m\u001b[0;34m.\u001b[0m\u001b[0mshape\u001b[0m\u001b[0;34m)\u001b[0m\u001b[0;34m:\u001b[0m\u001b[0;34m\u001b[0m\u001b[0;34m\u001b[0m\u001b[0m\n\u001b[1;32m    120\u001b[0m             \u001b[0;32mif\u001b[0m \u001b[0mdim\u001b[0m \u001b[0;32min\u001b[0m \u001b[0mscalar_vars\u001b[0m\u001b[0;34m:\u001b[0m\u001b[0;34m\u001b[0m\u001b[0;34m\u001b[0m\u001b[0m\n",
      "\u001b[0;31mKeyboardInterrupt\u001b[0m: "
     ]
    }
   ],
   "source": [
    "# Calculate transport.\n",
    "for i in range(len(ds.xu_ocean)):\n",
    "    for j in range(len(ds.yu_ocean)):\n",
    "        for t in range(12):\n",
    "            for k in range(len(ds.st_ocean)):\n",
    "                if ds.u[t, k, j, i] >= 0:\n",
    "                    # Velocity x Depth x Width (if travelling eastward).\n",
    "                    uvo[t, k, j, i] = ds.u[t, k, j, i]*dkdy[k]"
   ]
  },
  {
   "cell_type": "code",
   "execution_count": 15,
   "metadata": {},
   "outputs": [],
   "source": [
    "# Create new dataset with the same coordinates as original files.\n",
    "df = xr.Dataset(coords = ds.coords)\n",
    "# Save transport file.\n",
    "df['uvo'] = (('month', 'st_ocean', 'yu_ocean', 'xu_ocean'), uvo)\n",
    "# Add some attributes.\n",
    "df.uvo.attrs['long_name'] = 'Initial zonal volume transport'\n",
    "df.uvo.attrs['units'] = 'm3/sec'\n",
    "df.uvo.attrs['standard_name'] = 'sea_water_x_transport'\n",
    "df.uvo.attrs['description'] = 'Monthly mean transport ({}-{}).'.format(*year)\n",
    "\n",
    "\n",
    "# # Save dataset to netcdf.\n",
    "# df.to_netcdf(dpath.joinpath('EUC_transport_grid_{}-{}.nc'.format(*year)))\n",
    "\n",
    "# clim.close()\n",
    "# ds.close()\n",
    "# df.close()"
   ]
  },
  {
   "cell_type": "code",
   "execution_count": 7,
   "metadata": {},
   "outputs": [
    {
     "data": {
      "text/plain": [
       "array([55283.5       , 55283.5       , 55368.58349638, 56206.84942713,\n",
       "       58898.97392139])"
      ]
     },
     "execution_count": 7,
     "metadata": {},
     "output_type": "execute_result"
    }
   ],
   "source": [
    "dkdy"
   ]
  },
  {
   "cell_type": "code",
   "execution_count": null,
   "metadata": {},
   "outputs": [],
   "source": [
    "df.uvo.attrs['long_name'] = 'Initial zonal volume transport'"
   ]
  },
  {
   "cell_type": "code",
   "execution_count": 17,
   "metadata": {},
   "outputs": [
    {
     "data": {
      "text/plain": [
       "<xarray.DataArray 'uvo' (st_ocean: 4, yu_ocean: 11, xu_ocean: 1)>\n",
       "array([[[ 115.850908],\n",
       "        [ 229.799101],\n",
       "        [ 376.551567],\n",
       "        [ 616.945972],\n",
       "        [ 872.680904],\n",
       "        [1125.906439],\n",
       "        [1373.090139],\n",
       "        [1606.184826],\n",
       "        [1828.009232],\n",
       "        [2102.754199],\n",
       "        [2469.719702]],\n",
       "\n",
       "       [[ 266.255773],\n",
       "        [ 444.082947],\n",
       "        [ 653.648562],\n",
       "        [ 923.7163  ],\n",
       "        [1197.895054],\n",
       "        [1466.588468],\n",
       "        [1762.804926],\n",
       "        [2143.695884],\n",
       "        [2503.218372],\n",
       "        [2912.390714],\n",
       "        [3322.366936]],\n",
       "\n",
       "       [[ 391.7706  ],\n",
       "        [ 606.485888],\n",
       "        [ 902.072063],\n",
       "        [1219.213546],\n",
       "        [1536.14623 ],\n",
       "        [1931.219315],\n",
       "        [2334.569415],\n",
       "        [2758.12096 ],\n",
       "        [3184.762839],\n",
       "        [3588.697929],\n",
       "        [4002.290879]],\n",
       "\n",
       "       [[ 694.7348  ],\n",
       "        [ 991.075715],\n",
       "        [1318.328348],\n",
       "        [1676.751839],\n",
       "        [2124.714775],\n",
       "        [2632.232238],\n",
       "        [3175.166629],\n",
       "        [3663.79001 ],\n",
       "        [4096.829929],\n",
       "        [4473.4461  ],\n",
       "        [4852.542877]]])\n",
       "Coordinates:\n",
       "  * st_ocean  (st_ocean) float64 65.67 75.17 85.02 95.0\n",
       "  * xu_ocean  (xu_ocean) float64 180.0\n",
       "  * yu_ocean  (yu_ocean) float64 -0.5 -0.4 -0.3 -0.2 -0.1 ... 0.2 0.3 0.4 0.5"
      ]
     },
     "execution_count": 17,
     "metadata": {},
     "output_type": "execute_result"
    }
   ],
   "source": [
    "df.uvo.mean('month')"
   ]
  },
  {
   "cell_type": "code",
   "execution_count": 27,
   "metadata": {},
   "outputs": [
    {
     "data": {
      "text/plain": [
       "array([ 5.        ,  5.        ,  5.0076952 ,  5.0835104 ,  5.32699394,\n",
       "        5.77549362,  6.39279747,  7.1184845 ,  7.8815155 ,  8.60720444,\n",
       "        9.22450256,  9.67300415,  9.91649628,  9.99230194, 10.        ,\n",
       "       10.        , 10.        , 10.        , 10.        , 10.        ,\n",
       "       10.        , 10.        , 10.        , 10.09495544, 11.02723694,\n",
       "       14.00221252, 19.41487122, 26.70733643, 35.        , 43.29266357,\n",
       "       50.58514404])"
      ]
     },
     "execution_count": 27,
     "metadata": {},
     "output_type": "execute_result"
    }
   ],
   "source": [
    "dk\n"
   ]
  },
  {
   "cell_type": "code",
   "execution_count": 29,
   "metadata": {},
   "outputs": [
    {
     "data": {
      "text/plain": [
       "<xarray.DataArray 'st_edges_ocean' (st_edges_ocean: 31)>\n",
       "array([  5.      ,  10.      ,  15.007695,  20.091206,  25.4182  ,  31.193693,\n",
       "        37.586491,  44.704975,  52.586491,  61.193695,  70.418198,  80.091202,\n",
       "        90.007698, 100.      , 110.      , 120.      , 130.      , 140.      ,\n",
       "       150.      , 160.      , 170.      , 180.      , 190.      , 200.094955,\n",
       "       211.122192, 225.124405, 244.539276, 271.246613, 306.246613, 349.539276,\n",
       "       400.12442 ])\n",
       "Coordinates:\n",
       "  * st_edges_ocean  (st_edges_ocean) float64 5.0 10.0 15.01 ... 349.5 400.1\n",
       "Attributes:\n",
       "    long_name:       tcell zstar depth edges\n",
       "    units:           meters\n",
       "    cartesian_axis:  Z\n",
       "    positive:        down"
      ]
     },
     "execution_count": 29,
     "metadata": {},
     "output_type": "execute_result"
    }
   ],
   "source": [
    "ds.st_edges_ocean"
   ]
  },
  {
   "cell_type": "code",
   "execution_count": 31,
   "metadata": {},
   "outputs": [],
   "source": [
    "df = xr.open_dataset(dpath.joinpath('EUC_transport_grid_{}-{}.nc'.format(*year)))"
   ]
  },
  {
   "cell_type": "code",
   "execution_count": 32,
   "metadata": {},
   "outputs": [
    {
     "data": {
      "text/plain": [
       "<xarray.Dataset>\n",
       "Dimensions:         (month: 12, nv: 2, st_edges_ocean: 32, st_ocean: 32, xu_ocean: 11, yu_ocean: 62)\n",
       "Coordinates:\n",
       "  * nv              (nv) float64 1.0 2.0\n",
       "  * st_edges_ocean  (st_edges_ocean) float64 5.0 10.0 15.01 ... 400.1 456.1\n",
       "  * st_ocean        (st_ocean) float64 2.5 7.5 12.5 17.52 ... 325.9 373.2 427.1\n",
       "  * xu_ocean        (xu_ocean) float64 143.0 156.0 165.0 ... 235.0 250.0 265.0\n",
       "  * yu_ocean        (yu_ocean) float64 -3.0 -2.9 -2.8 -2.7 ... 2.8 2.9 3.0 3.1\n",
       "  * month           (month) int64 1 2 3 4 5 6 7 8 9 10 11 12\n",
       "Data variables:\n",
       "    uvo             (month, st_ocean, yu_ocean, xu_ocean) float64 ..."
      ]
     },
     "execution_count": 32,
     "metadata": {},
     "output_type": "execute_result"
    }
   ],
   "source": [
    "df"
   ]
  },
  {
   "cell_type": "code",
   "execution_count": 46,
   "metadata": {},
   "outputs": [
    {
     "data": {
      "text/plain": [
       "<xarray.DataArray 'uvo' ()>\n",
       "array(25.983547)\n",
       "Coordinates:\n",
       "    xu_ocean  float64 205.0"
      ]
     },
     "execution_count": 46,
     "metadata": {},
     "output_type": "execute_result"
    }
   ],
   "source": [
    "np.sum(df.uvo.mean('month').sel(xu_ocean=205))/1e6"
   ]
  },
  {
   "cell_type": "code",
   "execution_count": 37,
   "metadata": {},
   "outputs": [
    {
     "data": {
      "text/plain": [
       "<xarray.DataArray 'xu_ocean' (xu_ocean: 11)>\n",
       "array([143., 156., 165., 170., 180., 190., 205., 220., 235., 250., 265.])\n",
       "Coordinates:\n",
       "  * xu_ocean  (xu_ocean) float64 143.0 156.0 165.0 170.0 ... 235.0 250.0 265.0\n",
       "Attributes:\n",
       "    long_name:             ucell longitude\n",
       "    units:                 degrees_E\n",
       "    cartesian_axis:        X\n",
       "    domain_decomposition:  [   1 3600    1  100]"
      ]
     },
     "execution_count": 37,
     "metadata": {},
     "output_type": "execute_result"
    }
   ],
   "source": [
    "df.xu_ocean"
   ]
  },
  {
   "cell_type": "code",
   "execution_count": 47,
   "metadata": {},
   "outputs": [
    {
     "data": {
      "text/plain": [
       "array([145, 150, 155, 160, 165, 170, 175, 180, 185, 190, 195, 200, 205,\n",
       "       210, 215, 220, 225, 230, 235, 240, 245, 250, 255, 260, 265])"
      ]
     },
     "execution_count": 47,
     "metadata": {},
     "output_type": "execute_result"
    }
   ],
   "source": [
    "np.arange(145, 270, 5)"
   ]
  },
  {
   "cell_type": "code",
   "execution_count": null,
   "metadata": {},
   "outputs": [],
   "source": []
  }
 ],
 "metadata": {
  "kernelspec": {
   "display_name": "Python 3",
   "language": "python",
   "name": "python3"
  },
  "language_info": {
   "codemirror_mode": {
    "name": "ipython",
    "version": 3
   },
   "file_extension": ".py",
   "mimetype": "text/x-python",
   "name": "python",
   "nbconvert_exporter": "python",
   "pygments_lexer": "ipython3",
   "version": "3.6.7"
  }
 },
 "nbformat": 4,
 "nbformat_minor": 2
}
