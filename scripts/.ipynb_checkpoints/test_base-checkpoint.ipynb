{
 "cells": [
  {
   "cell_type": "code",
   "execution_count": 1,
   "metadata": {},
   "outputs": [],
   "source": [
    "import numpy as np\n",
    "import time\n",
    "import xarray as xr\n",
    "import numpy as np\n",
    "import math\n",
    "import calendar\n",
    "import warnings\n",
    "import sys\n",
    "from operator import attrgetter\n",
    "import matplotlib.pyplot as plt\n",
    "from collections import OrderedDict\n",
    "from datetime import timedelta, datetime, date\n",
    "from parcels import FieldSet, ParticleSet, JITParticle, ScipyParticle\n",
    "from parcels import ErrorCode, Variable\n",
    "from parcels import plotTrajectoriesFile, AdvectionRK4_3D, AdvectionRK4\n",
    "from mpl_toolkits.mplot3d import Axes3D\n",
    "from pathlib import Path\n",
    "from datetime import timedelta\n",
    "from main import paths, EUC_particles, ofam_fieldset, get_date, Age\n",
    "from main import plot3D, ParticleFile_transport, DeleteParticle, plot3D\n",
    "\n",
    "fpath, dpath, xpath = paths()\n",
    "\n",
    "# Define Fieldset and ParticleSet parameters.\n",
    "# Start and end dates.\n",
    "date_bnds = [get_date(2000, 1, 1), get_date(2000, 1, 7)]\n",
    "# Meridional and vertical distance between particles to release.\n",
    "dy, dz = 0.8, 25\n",
    "p_lats = np.arange(-2.4, 2.4 + dy, dy)\n",
    "p_depths = np.array([100, 300])\n",
    "p_lons = np.array([165])\n",
    "\n",
    "dt = timedelta(minutes=-60)\n",
    "repeatdt = timedelta(days=2)\n",
    "# Run for the number of days between date bounds.\n",
    "runtime = timedelta(days=(date_bnds[1] - date_bnds[0]).days)\n",
    "outputdt = timedelta(minutes=240)\n",
    "\n",
    "# Extra stuff.\n",
    "add_transport = False\n",
    "write_fieldset = False\n",
    "plot_ParticleFile = False "
   ]
  },
  {
   "cell_type": "code",
   "execution_count": null,
   "metadata": {},
   "outputs": [],
   "source": []
  },
  {
   "cell_type": "code",
   "execution_count": null,
   "metadata": {},
   "outputs": [],
   "source": [
    "print('Executing: {} to {}'.format(date_bnds[0], date_bnds[1]))\n",
    "# print('Repeat release: {} days'.format(repeatdt.days))\n",
    "# print('Release longitudes:', len(p_lons))\n",
    "print('Timestep (dt): {:.0f} minutes'.format(24*60 - dt.seconds/(60)))\n",
    "# print('Set particles released each repeatdt:', len(p_depths)*len(p_lats))\n",
    "\n",
    "fieldset = ofam_fieldset(date_bnds)\n",
    "fieldset.mindepth = fieldset.U.depth[0] "
   ]
  },
  {
   "cell_type": "code",
   "execution_count": null,
   "metadata": {},
   "outputs": [],
   "source": [
    "def Age(particle, fieldset, time):\n",
    "    # Update particle age.\n",
    "    particle.age = particle.age + math.fabs(particle.dt)  \n",
    "def DeleteWestward(particle, fieldset, time):\n",
    "    # Delete particle if the initial zonal velocity is westward (negative).\n",
    "    if particle.age == 0. and particle.u < 0:\n",
    "        particle.delete()\n",
    "class tparticle(JITParticle):   \n",
    "    \"\"\" Particle class that saves particle age and zonal velocity.\n",
    "    \"\"\"\n",
    "    # The age of the particle.\n",
    "    age = Variable('age', dtype=np.float32, initial=0.)\n",
    "    # The velocity of the particle.\n",
    "    u = Variable('u', dtype=np.float32, initial=fieldset.U)\n",
    "pclass = tparticle\n",
    "# Create name to save particle file (looks for unsaved filename).\n",
    "i = 0\n",
    "while dpath.joinpath('ParticleFile_{}-{}_v{}i.nc'.format(*[d.year \n",
    "                     for d in date_bnds], i)).exists():\n",
    "    i += 1\n",
    "\n",
    "pfile = dpath.joinpath('ParticleFile_{}-{}_v{}i.nc'.format(*[d.year \n",
    "                      for d in date_bnds], i))\n",
    "print('Executing:', pfile.stem)\n",
    "lats = np.tile(p_lats, len(p_depths)*len(p_lons))\n",
    "depths = np.tile(np.repeat(p_depths, len(p_lats)), len(p_lons))\n",
    "lons = np.repeat(p_lons, len(p_depths)*len(p_lats))\n",
    "pset = ParticleSet(fieldset=fieldset, pclass=pclass,\n",
    "                             lon=lons, lat=lats, depth=depths, \n",
    "                             time=fieldset.U.grid.time[-1], repeatdt=repeatdt)\n",
    "for p in pset:\n",
    "    print(p)"
   ]
  },
  {
   "cell_type": "code",
   "execution_count": null,
   "metadata": {},
   "outputs": [],
   "source": []
  },
  {
   "cell_type": "code",
   "execution_count": null,
   "metadata": {},
   "outputs": [],
   "source": [
    "# Output particle file p_name and time steps to save.\n",
    "output_file = pset.ParticleFile(dpath.joinpath(pfile.stem), outputdt=outputdt)\n",
    "kernels = pset.Kernel(DeleteWestward) + pset.Kernel(Age) + AdvectionRK4_3D\n",
    "pset.execute(kernels, runtime=runtime, dt=dt, output_file=output_file, \n",
    "             recovery={ErrorCode.ErrorOutOfBounds: DeleteParticle}, \n",
    "             verbose_progress=True)"
   ]
  },
  {
   "cell_type": "code",
   "execution_count": null,
   "metadata": {},
   "outputs": [],
   "source": [
    "print(fieldset.U.grid.time[0], fieldset.U.grid.time[-1])\n",
    "print(len(pset))\n",
    "for p in pset:\n",
    "    print(p)"
   ]
  },
  {
   "cell_type": "code",
   "execution_count": null,
   "metadata": {},
   "outputs": [],
   "source": [
    "from pathlib import Path\n",
    "pfile = dpath.joinpath('ParticleFile_1979-1989_v3.nc')"
   ]
  },
  {
   "cell_type": "code",
   "execution_count": null,
   "metadata": {},
   "outputs": [],
   "source": [
    "plotTrajectoriesFile(dpath.joinpath('ParticleFile_1979-1989_v3i.nc'), mode='movie2d_notebook', movie_forward=False)"
   ]
  },
  {
   "cell_type": "code",
   "execution_count": null,
   "metadata": {},
   "outputs": [],
   "source": [
    "from pathlib import Path\n",
    "pfile = dpath.joinpath('ParticleFile_1979-1979_v1i.nc')\n",
    "plot3D(pfile)"
   ]
  },
  {
   "cell_type": "code",
   "execution_count": null,
   "metadata": {},
   "outputs": [],
   "source": [
    "ds.time[0]"
   ]
  },
  {
   "cell_type": "code",
   "execution_count": null,
   "metadata": {},
   "outputs": [],
   "source": [
    "from main import remove_westward_particles\n",
    "remove_westward_particles(pset)"
   ]
  },
  {
   "cell_type": "code",
   "execution_count": null,
   "metadata": {},
   "outputs": [],
   "source": [
    "2592000/(60*60*24)"
   ]
  },
  {
   "cell_type": "code",
   "execution_count": null,
   "metadata": {},
   "outputs": [],
   "source": [
    "timedelta(seconds=2592000 - 2419200)"
   ]
  },
  {
   "cell_type": "code",
   "execution_count": null,
   "metadata": {},
   "outputs": [],
   "source": [
    "date_bnds[1] - date_bnds[0])"
   ]
  },
  {
   "cell_type": "code",
   "execution_count": null,
   "metadata": {},
   "outputs": [],
   "source": [
    "5*60"
   ]
  },
  {
   "cell_type": "code",
   "execution_count": null,
   "metadata": {},
   "outputs": [],
   "source": [
    "fieldset.U.depth"
   ]
  },
  {
   "cell_type": "code",
   "execution_count": null,
   "metadata": {},
   "outputs": [],
   "source": [
    "import numpy as np\n",
    "from datetime import timedelta\n",
    "from main import paths, EUC_particles, ofam_fieldset, get_date\n",
    "from main import plot3D, ParticleFile_transport\n",
    "\n",
    "fpath, dpath, xpath = paths()\n",
    "\n",
    "# Define Fieldset and ParticleSet parameters.\n",
    "# Start and end dates.\n",
    "date_bnds = [get_date(1980, 1, 1), get_date(1980, 1, 3)]\n",
    "# Meridional and vertical distance between particles to release.\n",
    "dy, dz = 0.2, 25\n",
    "p_lats = np.round(np.arange(-2.4, 2.4 + dy, dy), 2)\n",
    "p_depths = np.arange(25, 300 + dz, dz)\n",
    "# Longitudes to release particles.\n",
    "p_lons = np.array([165, 190, 200])\n",
    "dt = -timedelta(minutes=120)\n",
    "repeatdt = timedelta(days=6)\n",
    "# Run for the number of days between date bounds.\n",
    "runtime = timedelta(days=(date_bnds[1] - date_bnds[0]).days)\n",
    "outputdt = timedelta(days=1)"
   ]
  },
  {
   "cell_type": "code",
   "execution_count": null,
   "metadata": {},
   "outputs": [],
   "source": [
    "fieldset = ofam_fieldset(date_bnds)\n",
    "pset_start = fieldset.U.grid.time[-1]\n",
    "pfile = EUC_particles(fieldset, date_bnds, p_lats, p_lons, p_depths,  \n",
    "                      dt, pset_start, repeatdt, runtime, outputdt, \n",
    "                      remove_westward=True)"
   ]
  },
  {
   "cell_type": "code",
   "execution_count": null,
   "metadata": {},
   "outputs": [],
   "source": []
  }
 ],
 "metadata": {
  "kernelspec": {
   "display_name": "Python [conda env:analysis3-19.07] *",
   "language": "python",
   "name": "conda-env-analysis3-19.07-py"
  },
  "language_info": {
   "codemirror_mode": {
    "name": "ipython",
    "version": 3
   },
   "file_extension": ".py",
   "mimetype": "text/x-python",
   "name": "python",
   "nbconvert_exporter": "python",
   "pygments_lexer": "ipython3",
   "version": "3.6.7"
  }
 },
 "nbformat": 4,
 "nbformat_minor": 2
}
