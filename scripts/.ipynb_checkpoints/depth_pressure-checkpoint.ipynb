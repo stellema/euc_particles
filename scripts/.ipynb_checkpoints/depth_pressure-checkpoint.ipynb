{
 "cells": [
  {
   "cell_type": "code",
   "execution_count": 114,
   "metadata": {},
   "outputs": [
    {
     "data": {
      "text/plain": [
       "PosixPath('/g/data/e14/as3189/OFAM/trop_pac')"
      ]
     },
     "execution_count": 114,
     "metadata": {},
     "output_type": "execute_result"
    }
   ],
   "source": [
    "import numpy as np\n",
    "import xarray as xr\n",
    "from main import paths, idx_1d, LAT_DEG, lx\n",
    "import gsw\n",
    "import matplotlib.pyplot as plt\n",
    "np.set_printoptions(suppress=True)\n",
    "# Path to save figures, save data and OFAM model output.\n",
    "fpath, dpath, xpath = paths()\n",
    "xpath"
   ]
  },
  {
   "cell_type": "code",
   "execution_count": 123,
   "metadata": {},
   "outputs": [
    {
     "data": {
      "text/plain": [
       "<xarray.Dataset>\n",
       "Dimensions:         (Time: 31, nv: 2, st_edges_ocean: 52, st_ocean: 51, xu_ocean: 1750, yu_ocean: 300)\n",
       "Coordinates:\n",
       "  * Time            (Time) object 1981-01-01 12:00:00 ... 1981-01-31 12:00:00\n",
       "  * nv              (nv) float64 1.0 2.0\n",
       "  * st_edges_ocean  (st_edges_ocean) float64 0.0 5.0 10.0 ... 4.056e+03 5e+03\n",
       "  * st_ocean        (st_ocean) float64 2.5 7.5 12.5 ... 3.603e+03 4.509e+03\n",
       "  * xu_ocean        (xu_ocean) float64 120.0 120.1 120.2 ... 294.7 294.8 294.9\n",
       "  * yu_ocean        (yu_ocean) float64 -15.0 -14.9 -14.8 ... 14.7 14.8 14.9\n",
       "Data variables:\n",
       "    Time_bounds     (Time, nv) timedelta64[ns] ...\n",
       "    average_DT      (Time) timedelta64[ns] ...\n",
       "    average_T1      (Time) datetime64[ns] ...\n",
       "    average_T2      (Time) datetime64[ns] ...\n",
       "    u               (Time, st_ocean, yu_ocean, xu_ocean) float32 ...\n",
       "Attributes:\n",
       "    filename:       TMP/ocean_ofam_1981_01.nc.0000\n",
       "    NumFilesInSet:  720\n",
       "    title:          jra_55_1979\n",
       "    grid_type:      regular\n",
       "    history:        Thu Jul 18 16:24:24 2019: ncks -O -d yu_ocean,-15.0,14.9 ...\n",
       "    NCO:            netCDF Operators version 4.7.7 (Homepage = http://nco.sf...."
      ]
     },
     "execution_count": 123,
     "metadata": {},
     "output_type": "execute_result"
    }
   ],
   "source": [
    "du = xr.open_dataset(xpath.joinpath('ocean_u_1981_01.nc'))\n",
    "ds = xr.open_dataset(xpath.joinpath('ocean_salt_1981_01.nc'))\n",
    "dt = xr.open_dataset(xpath.joinpath('ocean_temp_1981_01.nc'))\n",
    "du"
   ]
  },
  {
   "cell_type": "code",
   "execution_count": 144,
   "metadata": {},
   "outputs": [],
   "source": [
    "z = -du.st_ocean.values\n",
    "y = du.yu_ocean.values\n",
    "Y, Z = np.meshgrid(y, z)"
   ]
  },
  {
   "cell_type": "code",
   "execution_count": 145,
   "metadata": {},
   "outputs": [
    {
     "data": {
      "text/plain": [
       "array([   2.51471032,    7.54422309,   12.57385871,   17.61909935,\n",
       "         22.80151953,   28.33690889,   34.42201559,   41.19982844,\n",
       "         48.74556048,   57.05929599,   66.06597672,   75.62273118,\n",
       "         85.53285935,   95.58057361,  105.64426392,  115.70844483,\n",
       "        125.77311627,  135.83827815,  145.90393039,  155.97007292,\n",
       "        166.03670565,  176.10382849,  186.17144138,  196.23954423,\n",
       "        206.49933987,  218.44596219,  234.69848712,  257.5489827 ,\n",
       "        288.49519515,  328.06025489,  375.72949908,  430.01178895,\n",
       "        488.61877364,  549.4466658 ,  614.91619339,  691.11040807,\n",
       "        781.96077391,  887.48622324, 1003.78465692, 1124.90708488,\n",
       "       1249.37554606, 1380.76454947, 1522.13603826, 1674.59870757,\n",
       "       1837.08558585, 2006.562387  , 2189.2893702 , 2459.71948923,\n",
       "       2932.12075067, 3655.54542532, 4584.39928927])"
      ]
     },
     "execution_count": 145,
     "metadata": {},
     "output_type": "execute_result"
    }
   ],
   "source": [
    "# Convert depth to pressure [dbar].\n",
    "p = gsw.conversions.p_from_z(Z, Y)\n",
    "p[:, 0]"
   ]
  },
  {
   "cell_type": "code",
   "execution_count": 146,
   "metadata": {},
   "outputs": [
    {
     "data": {
      "text/plain": [
       "<matplotlib.colorbar.Colorbar at 0x7f1e38ed39b0>"
      ]
     },
     "execution_count": 146,
     "metadata": {},
     "output_type": "execute_result"
    },
    {
     "data": {
      "image/png": "[encoded data removed]",
      "text/plain": [
       "<Figure size 432x288 with 2 Axes>"
      ]
     },
     "metadata": {
      "needs_background": "light"
     },
     "output_type": "display_data"
    }
   ],
   "source": [
    "fig, ax = plt.subplots()\n",
    "cmap = ax.pcolormesh(Y, Z, p)\n",
    "fig.colorbar(cmap)"
   ]
  },
  {
   "cell_type": "code",
   "execution_count": null,
   "metadata": {},
   "outputs": [],
   "source": [
    "\"\"\"\n",
    "gsw.pot_rho_t_exact(SA, t, p, p_ref)\n",
    "Calculates potential density of seawater.\n",
    "\n",
    "Parameters\n",
    "\n",
    "    SAarray-like\n",
    "\n",
    "        Absolute Salinity, g/kg\n",
    "    tarray-like\n",
    "\n",
    "        In-situ temperature (ITS-90), degrees C\n",
    "    parray-like\n",
    "\n",
    "        Sea pressure (absolute pressure minus 10.1325 dbar), dbar\n",
    "    p_refarray-like\n",
    "\n",
    "        Reference pressure, dbar\n",
    "\n",
    "Returns\n",
    "\n",
    "    pot_rho_t_exactarray-like, kg/m^3\n",
    "\n",
    "        potential density (not potential density anomaly)\n",
    "\n",
    "\n",
    "\"\"\""
   ]
  },
  {
   "cell_type": "code",
   "execution_count": 147,
   "metadata": {},
   "outputs": [
    {
     "name": "stdout",
     "output_type": "stream",
     "text": [
      "(51, 300)\n"
     ]
    }
   ],
   "source": [
    "lon = 180\n",
    "SA = ds.salt.sel(xt_ocean=lon + 0.05, method='nearest').isel(Time=0)\n",
    "t = dt.temp.sel(xt_ocean=lon + 0.05, method='nearest').isel(Time=0)\n",
    "p_ref = 0\n",
    "print(np.shape(SA))"
   ]
  },
  {
   "cell_type": "code",
   "execution_count": 148,
   "metadata": {},
   "outputs": [
    {
     "data": {
      "text/plain": [
       "(51, 300)"
      ]
     },
     "execution_count": 148,
     "metadata": {},
     "output_type": "execute_result"
    }
   ],
   "source": [
    "rho = gsw.pot_rho_t_exact(SA, t, p, p_ref)\n",
    "rho\n",
    "np.shape(rho)"
   ]
  },
  {
   "cell_type": "code",
   "execution_count": 154,
   "metadata": {},
   "outputs": [
    {
     "data": {
      "text/plain": [
       "<matplotlib.colorbar.Colorbar at 0x7f1e38c87198>"
      ]
     },
     "execution_count": 154,
     "metadata": {},
     "output_type": "execute_result"
    },
    {
     "data": {
      "image/png": "[encoded data removed]",
      "text/plain": [
       "<Figure size 432x288 with 2 Axes>"
      ]
     },
     "metadata": {
      "needs_background": "light"
     },
     "output_type": "display_data"
    }
   ],
   "source": [
    "fig, ax = plt.subplots()\n",
    "cmap = ax.pcolormesh(Y, Z, rho-1000)\n",
    "ax.set_ylim(-1100, 0)\n",
    "fig.colorbar(cmap)"
   ]
  },
  {
   "cell_type": "code",
   "execution_count": null,
   "metadata": {},
   "outputs": [],
   "source": [
    "\"\"\"\n",
    "gsw.CT_from_t(SA, t, p)[source]\n",
    "\n",
    "    Calculates Conservative Temperature of seawater from in-situ temperature.\n",
    "\n",
    "    Parameters\n",
    "\n",
    "        SAarray-like\n",
    "\n",
    "            Absolute Salinity, g/kg\n",
    "        tarray-like\n",
    "\n",
    "            In-situ temperature (ITS-90), degrees C\n",
    "        parray-like\n",
    "\n",
    "            Sea pressure (absolute pressure minus 10.1325 dbar), dbar\n",
    "\n",
    "    Returns\n",
    "\n",
    "        CTarray-like, deg C\n",
    "\n",
    "            Conservative Temperature (ITS-90)\n",
    "            \n",
    "\n",
    "gsw.rho(SA, CT, p)[source]\n",
    "\n",
    "    Calculates in-situ density from Absolute Salinity and Conservative Temperature, using the computationally-efficient expression for specific volume in terms of SA, CT and p (Roquet et al., 2015).\n",
    "\n",
    "    Parameters\n",
    "\n",
    "        SAarray-like\n",
    "\n",
    "            Absolute Salinity, g/kg\n",
    "        CTarray-like\n",
    "\n",
    "            Conservative Temperature (ITS-90), degrees C\n",
    "        parray-like\n",
    "\n",
    "            Sea pressure (absolute pressure minus 10.1325 dbar), dbar\n",
    "\n",
    "    Returns\n",
    "\n",
    "        rhoarray-like, kg/m\n",
    "\n",
    "            in-situ density\n",
    "\n",
    "\n",
    "\"\"\""
   ]
  }
 ],
 "metadata": {
  "kernelspec": {
   "display_name": "Python [conda env:analysis3-19.07] *",
   "language": "python",
   "name": "conda-env-analysis3-19.07-py"
  },
  "language_info": {
   "codemirror_mode": {
    "name": "ipython",
    "version": 3
   },
   "file_extension": ".py",
   "mimetype": "text/x-python",
   "name": "python",
   "nbconvert_exporter": "python",
   "pygments_lexer": "ipython3",
   "version": "3.6.7"
  }
 },
 "nbformat": 4,
 "nbformat_minor": 2
}
