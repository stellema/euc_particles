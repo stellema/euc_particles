{
 "cells": [
  {
   "cell_type": "code",
   "execution_count": 1,
   "metadata": {},
   "outputs": [],
   "source": [
    "import sys\n",
    "sys.path.append('/g/data1a/e14/as3189/OFAM/scripts/')\n",
    "import gsw\n",
    "import numpy as np\n",
    "import xarray as xr\n",
    "from pathlib import Path\n",
    "from scipy import interpolate\n",
    "import matplotlib.pyplot as plt\n",
    "from main import paths, idx_1d, LAT_DEG, lx\n",
    "from matplotlib.colors import LinearSegmentedColormap\n",
    "# Path to save figures, save data and OFAM model output.\n",
    "fpath, dpath, xpath, lpath = paths()\n",
    "tpath = Path('/g', 'data', 'e14', 'as3189', 'OFAM', 'TAU')"
   ]
  },
  {
   "cell_type": "code",
   "execution_count": 2,
   "metadata": {
    "scrolled": true
   },
   "outputs": [],
   "source": [
    "# Open data sets at each longitude.\n",
    "dU_165 = xr.open_dataset(tpath.joinpath('adcp0n165e_dy.cdf')).sel(lat=0, lon=165, depth=slice(10, 355))\n",
    "dU_190 = xr.open_dataset(tpath.joinpath('adcp0n170w_dy.cdf')).sel(lat=0, lon=190, depth=slice(10, 355))\n",
    "dU_220 = xr.open_dataset(tpath.joinpath('adcp0n140w_dy.cdf')).sel(lat=0, lon=220, depth=slice(10, 355))\n",
    "# print(dU_165.u_1205)\n",
    "# print(dU_190.u_1205)\n",
    "# print(dU_220.u_1205)\n",
    "\n",
    "missing_value = dU_165.missing_value # 1e35\n",
    "\n",
    "# Remove empty times?\n",
    "du_165 = dU_165.where(dU_165['u_1205'] != missing_value)\n",
    "du_190 = dU_190.where(dU_190['u_1205'] != missing_value)\n",
    "du_220 = dU_220.where(dU_220['u_1205'] != missing_value)\n",
    "\n",
    "# Drop empty values.\n",
    "du_dropped_165 = dU_165.where(du_165['u_1205'] != missing_value, drop=True)\n",
    "du_dropped_190 = dU_190.where(du_190['u_1205'] != missing_value, drop=True)\n",
    "du_dropped_220 = dU_220.where(du_220['u_1205'] != missing_value, drop=True)"
   ]
  },
  {
   "cell_type": "code",
   "execution_count": null,
   "metadata": {},
   "outputs": [],
   "source": [
    "def plot_tao(z, t, u, name, save_name):\n",
    "    # basic_cols = ['red', 'white', 'blue']\n",
    "    # my_cmap = LinearSegmentedColormap.from_list('mycmap', basic_cols)\n",
    "    cmap = plt.cm.seismic\n",
    "    cmap.set_bad('lightgrey') \n",
    "    fig, ax = plt.subplots(figsize=(15, 5))\n",
    "    ax.set_title(name, loc='left')\n",
    "    im = ax.pcolormesh(t, z, u, cmap=cmap, vmax=120, vmin=-120)\n",
    "    ax.set_ylim(355, 10)\n",
    "    plt.colorbar(im, shrink=0.8)\n",
    "\n",
    "    plt.savefig(fpath.joinpath(save_name))\n",
    "    plt.show()\n"
   ]
  },
  {
   "cell_type": "code",
   "execution_count": null,
   "metadata": {},
   "outputs": [],
   "source": [
    "name = 'TAO/Trition acdp zonal velocity at 165°W (original)'\n",
    "save_name = 'tao_165w_original.png'\n",
    "z = du.depth\n",
    "t = du.time\n",
    "u = du.u_1205.transpose('depth', 'time')\n",
    "plot_tao(z, t, u, name, save_name)"
   ]
  },
  {
   "cell_type": "code",
   "execution_count": null,
   "metadata": {},
   "outputs": [],
   "source": [
    "du_int = du_dropped.interp(time=du.time, method='linear')\n",
    "name = 'TAO/Trition acdp zonal velocity at 165°W (interp time)'\n",
    "save_name = 'tao_165w_time_interp.png'\n",
    "z = du.depth\n",
    "t = du.time\n",
    "u = du_int.u_1205.transpose('depth', 'time')\n",
    "plot_tao(z, t, u, name, save_name)"
   ]
  },
  {
   "cell_type": "code",
   "execution_count": null,
   "metadata": {},
   "outputs": [],
   "source": [
    "name = 'TAO/Trition acdp zonal velocity at 165°W (monthly original)'\n",
    "save_name = 'tao_165w_original_mon.png'\n",
    "z = du.depth\n",
    "t = du.time\n",
    "u = du.u_1205.transpose('depth', 'time')\n",
    "plot_tao(z, t, u, name, save_name)"
   ]
  },
  {
   "cell_type": "code",
   "execution_count": null,
   "metadata": {},
   "outputs": [],
   "source": [
    "du_int = du_dropped.interp(time=du.time, method='linear')\n",
    "name = 'TAO/Trition acdp zonal velocity at 165°W (monthly interp time)'\n",
    "save_name = 'tao_165w_time_interp_mon.png'\n",
    "z = du.depth\n",
    "t = du.time\n",
    "u = du_int.u_1205.transpose('depth', 'time')\n",
    "plot_tao(z, t, u, name, save_name)"
   ]
  },
  {
   "cell_type": "code",
   "execution_count": null,
   "metadata": {},
   "outputs": [],
   "source": [
    "du_intx = du_int.interp(method='linear')\n",
    "name = 'TAO/Trition acdp zonal velocity at 165°W (monthly interp time)'\n",
    "save_name = 'tao_165w_time_interp_mon.png'\n",
    "z = du.depth\n",
    "t = du.time\n",
    "u = du_intx.u_1205.transpose('depth', 'time')\n",
    "plot_tao(z, t, u, name, save_name)"
   ]
  },
  {
   "cell_type": "code",
   "execution_count": null,
   "metadata": {},
   "outputs": [],
   "source": [
    "t = du.depth.values\n",
    "z = np.arange(len(du.time))\n",
    "du.u_1205[:, -1] = -10\n",
    "for i in range(len(du.u_1205[:, 0])):\n",
    "    if np.isnan(du.u_1205[i, 0]):\n",
    "        du.u_1205[i, 0] = 0 \n",
    "u = du.u_1205.values\n",
    "\n",
    "u_mask = np.ma.masked_invalid(u)\n",
    "tt, zz = np.meshgrid(t, z)\n",
    "t1 = tt[~u_mask.mask]\n",
    "z1 = zz[~u_mask.mask]\n",
    "u_masked = u_mask[~u_mask.mask]\n",
    "g = interpolate.griddata((t1, z1), u_masked.ravel(),\n",
    "                          (tt, zz),\n",
    "                             method='nearest')\n",
    "gl = interpolate.griddata((t1, z1), u_masked.ravel(),\n",
    "                          (tt, zz),\n",
    "                             method='linear')\n",
    "gc = interpolate.griddata((t1, z1), u_masked.ravel(),\n",
    "                          (tt, zz),\n",
    "                             method='cubic')\n",
    "print(g.shape, u.shape)"
   ]
  },
  {
   "cell_type": "code",
   "execution_count": null,
   "metadata": {},
   "outputs": [],
   "source": [
    "name = 'TAO/Trition acdp zonal velocity at 165°W (monthly interp nearest)'\n",
    "save_name = 'tao_165w_interp_mon_near.png'\n",
    "plot_tao(t, z, np.transpose(g), name, save_name)"
   ]
  },
  {
   "cell_type": "code",
   "execution_count": null,
   "metadata": {},
   "outputs": [],
   "source": [
    "name = 'TAO/Trition acdp zonal velocity at 165°W (monthly interp linear)'\n",
    "save_name = 'tao_165w_interp_mon_linear.png'\n",
    "plot_tao(t, z, np.transpose(gl), name, save_name)"
   ]
  },
  {
   "cell_type": "code",
   "execution_count": null,
   "metadata": {},
   "outputs": [],
   "source": [
    "name = 'TAO/Trition acdp zonal velocity at 165°W (monthly interp cubic)'\n",
    "save_name = 'tao_165w_interp_mon_cubic.png'\n",
    "plot_tao(t, z, np.transpose(gc), name, save_name)"
   ]
  },
  {
   "cell_type": "code",
   "execution_count": null,
   "metadata": {
    "scrolled": true
   },
   "outputs": [],
   "source": [
    "name = 'TAO/Trition acdp zonal velocity at 165°W (daily interp nearest)'\n",
    "save_name = 'tao_165w_interp_day_near.png'\n",
    "plot_tao(t, z, np.transpose(g), name, save_name)"
   ]
  },
  {
   "cell_type": "code",
   "execution_count": null,
   "metadata": {},
   "outputs": [],
   "source": [
    "name = 'TAO/Trition acdp zonal velocity at 165°W (daily interp linear)'\n",
    "save_name = 'tao_165w_interp_day_linear.png'\n",
    "plot_tao(t, z, np.transpose(gl), name, save_name)"
   ]
  },
  {
   "cell_type": "code",
   "execution_count": null,
   "metadata": {
    "scrolled": true
   },
   "outputs": [],
   "source": [
    "name = 'TAO/Trition acdp zonal velocity at 165°W (daily interp linear: 350m = -10 m/s)'\n",
    "save_name = 'tao_165w_interp_day_linear_-10.png'\n",
    "plot_tao(t, z, np.transpose(gl), name, save_name)"
   ]
  },
  {
   "cell_type": "markdown",
   "metadata": {},
   "source": [
    "# Plot multiple subplots"
   ]
  },
  {
   "cell_type": "code",
   "execution_count": null,
   "metadata": {},
   "outputs": [],
   "source": [
    "def plot_tao(fig, z, t, u, i, name):\n",
    "    # basic_cols = ['red', 'white', 'blue']\n",
    "    # my_cmap = LinearSegmentedColormap.from_list('mycmap', basic_cols)\n",
    "    cmap = plt.cm.seismic\n",
    "    cmap.set_bad('lightgrey') \n",
    "    \n",
    "    ax.set_title(name, loc='left')\n",
    "    im = ax.pcolormesh(t, z, u, cmap=cmap, vmax=120, vmin=-120)\n",
    "    ax.set_ylim(355, 10)\n",
    "    plt.colorbar(im, shrink=0.8)\n",
    "\n",
    "lons = [165, 190, 220]\n",
    "fig = plt.figure(figsize=(15, 5))\n",
    "name = 'TAO/TRITION acdp zonal velocity at {}°E (original)'.format(lon)\n",
    "save_name = 'tao_165w_original.png'\n",
    "z = du.depth\n",
    "t = du.time \n",
    "u = du.u_1205.transpose('depth', 'time')\n",
    "plot_tao(fig, z, t, u, n, name)\n",
    "\n",
    "# plt.savefig(fpath.joinpath(save_name))\n",
    "plt.show()"
   ]
  },
  {
   "cell_type": "code",
   "execution_count": null,
   "metadata": {},
   "outputs": [],
   "source": [
    "df.u_1205.sel(depth=50).interp(time=df.time, method='linear',kwargs={'fill_value': 1e35}).plot()"
   ]
  },
  {
   "cell_type": "code",
   "execution_count": null,
   "metadata": {},
   "outputs": [],
   "source": [
    "du = df.where(df.u_1205 != df._FillValue, drop=True).u_1205"
   ]
  },
  {
   "cell_type": "code",
   "execution_count": null,
   "metadata": {},
   "outputs": [],
   "source": [
    "tmp = du.sel(depth=50).interp(time=df.time, method='linear')\n",
    "# du.sel(depth=50).plot()"
   ]
  },
  {
   "cell_type": "code",
   "execution_count": null,
   "metadata": {},
   "outputs": [],
   "source": [
    "du.time\n",
    "tmp.time"
   ]
  },
  {
   "cell_type": "code",
   "execution_count": null,
   "metadata": {},
   "outputs": [],
   "source": [
    "df.time"
   ]
  },
  {
   "cell_type": "code",
   "execution_count": null,
   "metadata": {},
   "outputs": [],
   "source": [
    "tmp.plot()"
   ]
  },
  {
   "cell_type": "code",
   "execution_count": null,
   "metadata": {},
   "outputs": [],
   "source": [
    "df.u_1205.sel(depth=50).plot()"
   ]
  },
  {
   "cell_type": "code",
   "execution_count": null,
   "metadata": {},
   "outputs": [],
   "source": [
    "dc.U_320.sel(depth=50, lat=0, lon=165).plot()\n",
    "dc_dropped = dc.where(dc.U_320 != dc._FillValue).U_320\n",
    "dc_int = dc.sel(depth=50,lat=0, lon=165).interp(time=dc.time, method='linear')\n",
    "dc_int.plot()\n",
    "# du.sel(depth=50).plot()"
   ]
  },
  {
   "cell_type": "code",
   "execution_count": null,
   "metadata": {},
   "outputs": [],
   "source": [
    "dc_int.plot()"
   ]
  },
  {
   "cell_type": "code",
   "execution_count": null,
   "metadata": {},
   "outputs": [],
   "source": [
    "dc.time[81]"
   ]
  },
  {
   "cell_type": "code",
   "execution_count": null,
   "metadata": {},
   "outputs": [],
   "source": [
    "dc.sel(lon=165, depth=10).U_320.plot(vmax=150, vmin=-150)"
   ]
  },
  {
   "cell_type": "code",
   "execution_count": null,
   "metadata": {},
   "outputs": [],
   "source": [
    "du_int = du.sel(time=du.time[0], depth=50).interp(lat=np.arange(-2, 2, 0.5), method='splinef2d')"
   ]
  },
  {
   "cell_type": "code",
   "execution_count": null,
   "metadata": {},
   "outputs": [],
   "source": [
    "z = dy.sel(lat=0, lon=165).u_1205.values\n",
    "depth = dy.depth.values\n",
    "time = np.arange(0, 203)\n",
    "dx = interpolate.interp2d(depth, time, z, kind='linear', copy=True)"
   ]
  },
  {
   "cell_type": "code",
   "execution_count": null,
   "metadata": {},
   "outputs": [],
   "source": [
    "s = dx(depth, time)"
   ]
  },
  {
   "cell_type": "code",
   "execution_count": null,
   "metadata": {},
   "outputs": [],
   "source": [
    "plt.plot(s[:, 20])"
   ]
  },
  {
   "cell_type": "code",
   "execution_count": null,
   "metadata": {},
   "outputs": [],
   "source": [
    "Depth = np.arange(0, 425, 5)\n",
    "Lon = np.array([147, 156, 165, 190, 220, 235, 250])\n",
    "Lat = [0, 8]\n",
    "nlon = 7\n",
    "nlat = 2\n",
    "ndep = 84\n",
    "ntim = 381\n",
    "Depth_Index = np.arange(6, 60, 2)\n",
    "Depths = Depth[Depth_Index]"
   ]
  },
  {
   "cell_type": "code",
   "execution_count": null,
   "metadata": {},
   "outputs": [],
   "source": []
  }
 ],
 "metadata": {
  "kernelspec": {
   "display_name": "Python [conda env:analysis3-19.07]",
   "language": "python",
   "name": "conda-env-analysis3-19.07-py"
  },
  "language_info": {
   "codemirror_mode": {
    "name": "ipython",
    "version": 3
   },
   "file_extension": ".py",
   "mimetype": "text/x-python",
   "name": "python",
   "nbconvert_exporter": "python",
   "pygments_lexer": "ipython3",
   "version": "3.6.7"
  }
 },
 "nbformat": 4,
 "nbformat_minor": 2
}
