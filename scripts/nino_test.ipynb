{
 "cells": [
  {
   "cell_type": "code",
   "execution_count": 1,
   "metadata": {},
   "outputs": [],
   "source": [
    "import warnings\n",
    "import numpy as np\n",
    "import xarray as xr\n",
    "from pathlib import Path\n",
    "from itertools import groupby\n",
    "from datetime import timedelta\n",
    "import matplotlib.pyplot as plt\n",
    "from main import paths, EUC_particles, ofam_fieldset, get_date\n",
    "from main import plot3D, ParticleFile_transport, timer\n",
    "\n",
    "fpath, dpath, xpath = paths()\n",
    "tpath = Path('/g', 'data3', 'hh5', 'tmp', 'as3189', 'OFAM')\n",
    "# date_bnds = [get_date(1979, 1, 1), get_date(2014, 12, 'max')]\n",
    "date_bnds = [get_date(2070, 1, 1), get_date(2101, 12, 'max')]\n",
    "temp = []\n",
    " \n",
    "for y in range(date_bnds[0].year, date_bnds[1].year + 1):\n",
    "    for m in range(date_bnds[0].month, date_bnds[1].month + 1):\n",
    "        temp.append(tpath.joinpath('ocean_temp_{}_{:02d}.nc'.format(y, m)))\n",
    "\n",
    "ds = xr.open_mfdataset(temp)\n",
    "\n",
    "# Select the SST averaged over the nino3.4 area.\n",
    "sst = ds.sel(yt_ocean=slice(-5, 5), xt_ocean=slice(190, 240), st_ocean=2.5)\n",
    "sst = sst.temp.mean(['yt_ocean', 'xt_ocean'])\n",
    "\n",
    "# SST monthly climatology.\n",
    "sst_clim = sst.groupby('Time.month').mean('Time')\n",
    "\n",
    "# SST anomoly.\n",
    "sst_anom = sst.groupby('Time.month') - sst_clim\n",
    "\n",
    "# ONI index.\n",
    "oni = sst_anom.rolling(Time=5).mean(dim='Time')"
   ]
  },
  {
   "cell_type": "code",
   "execution_count": null,
   "metadata": {},
   "outputs": [],
   "source": [
    "# Create a categorical dataarray of events.\n",
    "oni.load() # Need to load oni first.\n",
    "nino34 = xr.full_like(oni, 'none', dtype='U4')\n",
    "nino34[oni >= 0.5] = 'nino'\n",
    "nino34[oni <= -0.5] = 'nina'"
   ]
  },
  {
   "cell_type": "code",
   "execution_count": null,
   "metadata": {},
   "outputs": [],
   "source": [
    "# Count the length time of each neutral, nino and nina. \n",
    "count_dups = [sum(1 for _ in grp) for _, grp in groupby(nino34)]\n",
    "\n",
    "# Count the length time of each neutral event.\n",
    "count_none = [sum(1 for _ in grp) for _, grp in groupby(nino34) if _ == 'none']\n",
    "\n",
    "# Find the longest neutral event.\n",
    "max_len = np.max(count_none)\n",
    "\n",
    "# Find the index where the max event starts (in the count).\n",
    "max_idx_dup = np.where(count_dups == max_len)[0][0]\n",
    "\n",
    "# Sum the previous days to find index of event in nino34 array.\n",
    "max_idx = sum(count_dups[0:max_idx_dup])"
   ]
  },
  {
   "cell_type": "code",
   "execution_count": null,
   "metadata": {},
   "outputs": [],
   "source": [
    "if not all(x == 'none' for x in nino34[max_idx:max_idx + max_len]):\n",
    "    warnings.warn('Not all values are none.')\n",
    "if nino34[max_idx -1] == 'none':\n",
    "    warnings.warn('Previous time is not none.')\n",
    "if nino34[max_idx + max_len] == 'none':\n",
    "    warnings.warn('Next day is not none.')\n",
    "\n",
    "print('Longest event: {} days'.format(max_len))\n",
    "print('Index in count:', max_idx_dup)\n",
    "print('Index in nino34:', max_idx)\n",
    "strt = nino34[max_idx].Time.item()\n",
    "end = nino34[max_idx + max_len].Time.item()\n",
    "print('Start date:', strt)\n",
    "print('End date:', end)"
   ]
  },
  {
   "cell_type": "code",
   "execution_count": null,
   "metadata": {},
   "outputs": [],
   "source": [
    "fig, ax = plt.subplots(figsize=(14, 8))\n",
    "# ax.plot(oni.Time, sst_anom, 'green', label='SST_anom')\n",
    "ax.plot(oni.Time, oni, 'k', label='ONI')\n",
    "\n",
    "ax.fill_between(oni.Time.values, oni, 0.5, where=(oni>=0.5), facecolor='r', label='El Nino')\n",
    "ax.fill_between(oni.Time.values, oni, -0.5, where=(oni<=-0.5), facecolor='b', label='La Nina')\n",
    "\n",
    "ticks_to_use = oni.Time.values[::366]\n",
    "labels = [ i.strftime(\"%-Y\") for i in ticks_to_use ]\n",
    "ax.set_xlim(oni.Time[0].item(), oni.Time[-1].item())\n",
    "ax.set_xticks(ticks_to_use)\n",
    "ax.set_xticklabels(labels, rotation=45)\n",
    "ax.set_yticks(np.arange(-2, 3.5, 0.5))\n",
    "ax.set_ylabel('SST [°C]')\n",
    "ax.grid()\n",
    "fig.legend()\n",
    "plt.savefig(fpath.joinpath('ONI_{}-{}.png'.format(date_bnds[0].year, date_bnds[-1].year)))"
   ]
  },
  {
   "cell_type": "code",
   "execution_count": null,
   "metadata": {},
   "outputs": [],
   "source": []
  }
 ],
 "metadata": {
  "kernelspec": {
   "display_name": "Python [conda env:analysis3-19.07] *",
   "language": "python",
   "name": "conda-env-analysis3-19.07-py"
  },
  "language_info": {
   "codemirror_mode": {
    "name": "ipython",
    "version": 3
   },
   "file_extension": ".py",
   "mimetype": "text/x-python",
   "name": "python",
   "nbconvert_exporter": "python",
   "pygments_lexer": "ipython3",
   "version": "3.6.7"
  }
 },
 "nbformat": 4,
 "nbformat_minor": 2
}
