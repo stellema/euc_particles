{
 "cells": [
  {
   "cell_type": "code",
   "execution_count": 1,
   "metadata": {},
   "outputs": [],
   "source": [
    "\n",
    "import time\n",
    "import warnings\n",
    "import xarray as xr\n",
    "import numpy as np\n",
    "from operator import attrgetter\n",
    "from datetime import timedelta\n",
    "# from main import LAT_DEG, paths, years_to_days, ofam_fields\n",
    "# from main import DeleteParticle, plot3D, particle_vars, remove_particles\n",
    "from parcels import ParticleSet, JITParticle, ScipyParticle, FieldSet\n",
    "from parcels import AdvectionRK4_3D, Variable, ErrorCode"
   ]
  },
  {
   "cell_type": "code",
   "execution_count": null,
   "metadata": {},
   "outputs": [],
   "source": [
    "\n"
   ]
  },
  {
   "cell_type": "code",
   "execution_count": 4,
   "metadata": {},
   "outputs": [],
   "source": [
    "def DeleteParticle(particle, fieldset, time):\n",
    "    particle.delete()\n",
    "def paths():\n",
    "    unsw = 0 # True if at unsw PC.\n",
    "    from os.path import expanduser\n",
    "    home = expanduser(\"~\")\n",
    "    # Windows Paths.\n",
    "    if home[:10] == 'C:\\\\Users\\\\A':\n",
    "        path = 'C:/Users/Annette/' if unsw else 'E:/'\n",
    "        spath = path + 'GitHub/OFAM/scripts/'\n",
    "        fpath = path + 'GitHub/OFAM/fields/'\n",
    "        xpath = path + 'GitHub/OFAM/figures/'\n",
    "        dpath = path + 'GitHub/OFAM/data/'\n",
    "        data_path = path + 'model_output/OFAM/OFAM3_BGC_SPINUP_03/daily/'\n",
    "\n",
    "    # Raijin Paths.\n",
    "    else:\n",
    "        path = '/g/data/e14/as3189/'\n",
    "        spath = '/g/data/e14/as3189/OFAM/scripts/'\n",
    "        fpath = '/g/data/e14/as3189/OFAM/fields/'\n",
    "        xpath = '/g/data/e14/as3189/OFAM/figures/'\n",
    "        dpath = '/g/data/e14/as3189/OFAM/data/'\n",
    "        data_path = '/g/data/e14/as3189/OFAM/'\n",
    "\n",
    "    return path, spath, fpath, xpath, dpath, data_path\n",
    "path, spath, fpath, xpath, dpath, data_path = paths()\n",
    "def ofam_fields(years=[1984, 2014], months=[1, 12], deferred_load=False):\n",
    "\n",
    "    ufiles = []\n",
    "    vfiles = []\n",
    "    wfiles = []\n",
    "    \n",
    "    for y in range(years[0], years[1] + 1):\n",
    "        for m in range(months[0], months[1] + 1):\n",
    "            ufiles.append('{}trop_pac/ocean_u_{}_{}.nc'.format(data_path, str(y), \n",
    "                          str(m).zfill(2)))\n",
    "            vfiles.append('{}trop_pac/ocean_v_{}_{}.nc'.format(data_path, str(y), \n",
    "                          str(m).zfill(2)))\n",
    "            wfiles.append('{}hist/ocean_w_{}_{}.nc'.format(data_path, str(y), \n",
    "                          str(m).zfill(2)))\n",
    "            \n",
    "    filenames = {'U': {'lon': ufiles[0], 'lat': ufiles[0], 'depth': ufiles[0], 'data': ufiles},\n",
    "                 'V': {'lon': ufiles[0], 'lat': ufiles[0], 'depth': ufiles[0], 'data': vfiles},\n",
    "                 'W': {'lon': ufiles[0], 'lat': ufiles[0], 'depth': ufiles[0], 'data': wfiles}}\n",
    "    variables = {'U': 'u', 'V': 'v', 'W': 'w'}\n",
    "    \n",
    "    dimensions = {'U': {'lon': 'xu_ocean', 'lat': 'yu_ocean', 'depth': 'st_ocean', 'time': 'Time'},\n",
    "                  'V': {'lon': 'xu_ocean', 'lat': 'yu_ocean', 'depth': 'st_ocean', 'time': 'Time'},\n",
    "                  'W': {'lon': 'xu_ocean', 'lat': 'yu_ocean', 'depth': 'st_ocean', 'time': 'Time'}}            \n",
    "\n",
    "    f = FieldSet.from_b_grid_dataset(filenames, variables, dimensions, mesh='flat', \n",
    "                                     time_periodic=True, deferred_load=deferred_load)\n",
    "\n",
    "    return f"
   ]
  },
  {
   "cell_type": "code",
   "execution_count": 5,
   "metadata": {},
   "outputs": [
    {
     "name": "stderr",
     "output_type": "stream",
     "text": [
      "WARNING: Casting lon data to np.float32\n",
      "WARNING: Casting lat data to np.float32\n",
      "WARNING: Casting depth data to np.float32\n"
     ]
    },
    {
     "name": "stdout",
     "output_type": "stream",
     "text": [
      "Execution time (field): 0.61 mins\n"
     ]
    }
   ],
   "source": [
    "years = [2014, 2014]\n",
    "months = [12, 12]\n",
    "\n",
    "\n",
    "start = time.time()\n",
    "\n",
    "# Create the fieldset.\n",
    "fieldset = ofam_fields(years=years, months=months)\n",
    "print('Execution time (field): {:.2f} mins'.format((time.time() - start)/60))"
   ]
  },
  {
   "cell_type": "code",
   "execution_count": 6,
   "metadata": {},
   "outputs": [],
   "source": [
    "ufiles = []\n",
    "vfiles = []\n",
    "wfiles = []\n",
    "\n",
    "for y in range(years[0], years[1] + 1):\n",
    "    for m in range(months[0], months[1] + 1):\n",
    "        ufiles.append('{}trop_pac/ocean_u_{}_{}.nc'.format(data_path, str(y), \n",
    "                      str(m).zfill(2)))\n",
    "        vfiles.append('{}trop_pac/ocean_v_{}_{}.nc'.format(data_path, str(y), \n",
    "                      str(m).zfill(2)))\n",
    "        wfiles.append('{}hist/ocean_w_{}_{}.nc'.format(data_path, str(y), \n",
    "                      str(m).zfill(2)))\n",
    "du = xr.open_dataset(ufiles[0])\n",
    "dv = xr.open_dataset(vfiles[0])\n",
    "dw = xr.open_dataset(wfiles[0])"
   ]
  },
  {
   "cell_type": "code",
   "execution_count": 12,
   "metadata": {},
   "outputs": [
    {
     "name": "stdout",
     "output_type": "stream",
     "text": [
      "-0.23621326736340315\n",
      "6.104e-06\n"
     ]
    }
   ],
   "source": [
    "print(fieldset.U.eval(0, 7.5, 0.1, 180))\n",
    "print(np.round(fieldset.W.eval(0, 7.5, 0.1, 222), 9))"
   ]
  },
  {
   "cell_type": "code",
   "execution_count": 11,
   "metadata": {},
   "outputs": [
    {
     "name": "stdout",
     "output_type": "stream",
     "text": [
      "<xarray.DataArray 'u' ()>\n",
      "array(-0.236213, dtype=float32)\n",
      "Coordinates:\n",
      "    Time      object 2014-12-01 12:00:00\n",
      "    st_ocean  float64 7.5\n",
      "    xu_ocean  float64 180.0\n",
      "    yu_ocean  float64 0.1\n",
      "Attributes:\n",
      "    long_name:      i-current\n",
      "    units:          m/sec\n",
      "    valid_range:    [-32767  32767]\n",
      "    packing:        4\n",
      "    cell_methods:   time: mean\n",
      "    time_avg_info:  average_T1,average_T2,average_DT\n",
      "    coordinates:    geolon_c geolat_c\n",
      "    standard_name:  sea_water_x_velocity\n",
      "<xarray.DataArray 'w' ()>\n",
      "array(6.103702e-06, dtype=float32)\n",
      "Coordinates:\n",
      "    Time      object 2014-12-01 12:00:00\n",
      "    sw_ocean  float64 5.0\n",
      "    xt_ocean  float64 222.1\n",
      "    yt_ocean  float64 0.05\n",
      "Attributes:\n",
      "    long_name:      dia-surface velocity T-points\n",
      "    units:          m/sec\n",
      "    valid_range:    [-32767  32767]\n",
      "    packing:        4\n",
      "    cell_methods:   time: mean\n",
      "    time_avg_info:  average_T1,average_T2,average_DT\n",
      "    coordinates:    geolon_t geolat_t\n"
     ]
    }
   ],
   "source": [
    "print(du.u.isel(Time=0).sel(st_ocean=7.5, yu_ocean=0.1, xu_ocean=180, method='nearest'))\n",
    "print(dw.w.isel(Time=0).sel(sw_ocean=5, yt_ocean=0.1, xt_ocean=222, method='nearest'))"
   ]
  },
  {
   "cell_type": "code",
   "execution_count": null,
   "metadata": {},
   "outputs": [],
   "source": [
    "print(dw.sw_ocean)\n",
    "print(du.st_ocean)"
   ]
  },
  {
   "cell_type": "code",
   "execution_count": null,
   "metadata": {},
   "outputs": [],
   "source": [
    "\n",
    "\n",
    "pset = ParticleSet.from_line(fieldset=fieldset, pclass=JITParticle,\n",
    "                             size=5,            # releasing 5 particles\n",
    "                             depth=5,\n",
    "                             start=(180, -5),   # releasing on a line: the start longitude and latitude\n",
    "                             finish=(180, 5))  # releasing on a line: the end longitude and latitude\n",
    "\n"
   ]
  },
  {
   "cell_type": "code",
   "execution_count": null,
   "metadata": {},
   "outputs": [],
   "source": [
    "pset.execute(AdvectionRK4_3D,\n",
    "             runtime=timedelta(days=10),\n",
    "             dt=timedelta(minutes=5),\n",
    "             output_file=pset.ParticleFile(name=\"GlobCurrentPart.nc\", outputdt=timedelta(hours=6)),\n",
    "            recovery={ErrorCode.ErrorOutOfBounds: DeleteParticle})"
   ]
  },
  {
   "cell_type": "code",
   "execution_count": null,
   "metadata": {},
   "outputs": [],
   "source": [
    "\n",
    "pset.show(field=fieldset.W)\n"
   ]
  },
  {
   "cell_type": "markdown",
   "metadata": {},
   "source": [
    "##### print(du.xu_ocean)\n",
    "print(dw.xt_ocean)\n"
   ]
  },
  {
   "cell_type": "code",
   "execution_count": null,
   "metadata": {},
   "outputs": [],
   "source": [
    "print(du.yu_ocean)\n",
    "print(dw.yt_ocean)"
   ]
  },
  {
   "cell_type": "code",
   "execution_count": null,
   "metadata": {},
   "outputs": [],
   "source": [
    "print(dv.xu_ocean)\n",
    "print(dw.xt_ocean)"
   ]
  },
  {
   "cell_type": "code",
   "execution_count": null,
   "metadata": {},
   "outputs": [],
   "source": [
    "print(dv.yu_ocean)\n",
    "print(dw.yt_ocean)\n"
   ]
  },
  {
   "cell_type": "code",
   "execution_count": null,
   "metadata": {},
   "outputs": [],
   "source": [
    "ufiles = []\n",
    "vfiles = []\n",
    "wfiles = []\n",
    "\n",
    "for y in range(years[0], years[1] + 1):\n",
    "    for m in range(months[0], months[1] + 1):\n",
    "        ufiles.append('{}ocean_u_{}_{}_.nc'.format(data_path, str(y), \n",
    "                      str(m).zfill(2)))\n",
    "        vfiles.append('{}ocean_v_{}_{}_.nc'.format(data_path, str(y), \n",
    "                      str(m).zfill(2)))\n",
    "        wfiles.append('{}ocean_w_{}_{}.nc'.format(data_path, str(y), \n",
    "                      str(m).zfill(2)))\n",
    "\n",
    "filenames = {'U': {'lon': ufiles[0], 'lat': ufiles[0], 'depth': ufiles[0], 'data': ufiles},\n",
    "             'V': {'lon': vfiles[0], 'lat': vfiles[0], 'depth': vfiles[0], 'data': vfiles},\n",
    "             'W': {'lon': wfiles[0], 'lat': wfiles[0], 'depth': wfiles[0], 'data': wfiles}}\n",
    "variables = {'U': 'u', 'V': 'v', 'W': 'w'}\n",
    "\n",
    "dimensions = {'U': {'lon': 'xu_ocean', 'lat': 'yu_ocean', 'depth': 'st_ocean', 'time': 'Time'},\n",
    "              'V': {'lon': 'xu_ocean', 'lat': 'yu_ocean', 'depth': 'st_ocean', 'time': 'Time'},\n",
    "              'W': {'lon': 'xt_ocean', 'lat': 'yt_ocean', 'depth': 'sw_ocean', 'time': 'Time'}} "
   ]
  },
  {
   "cell_type": "code",
   "execution_count": null,
   "metadata": {},
   "outputs": [],
   "source": [
    "du.attrs\n",
    "if 'U' in dimensions and 'W' in dimensions and dimensions['U'] != dimensions['W']:"
   ]
  },
  {
   "cell_type": "code",
   "execution_count": null,
   "metadata": {},
   "outputs": [],
   "source": [
    "dimensions['W']"
   ]
  },
  {
   "cell_type": "code",
   "execution_count": null,
   "metadata": {},
   "outputs": [],
   "source": [
    "'W' in dimensions"
   ]
  },
  {
   "cell_type": "code",
   "execution_count": 13,
   "metadata": {},
   "outputs": [
    {
     "data": {
      "text/plain": [
       "OrderedDict([('filename', 'TMP/ocean_ofam_2014_12.nc.0000'),\n",
       "             ('NumFilesInSet', 1350),\n",
       "             ('title', 'jra_55_1979'),\n",
       "             ('grid_type', 'regular'),\n",
       "             ('history',\n",
       "              'Wed Jul 17 17:41:59 2019: ncks -O -d yu_ocean,-15.,14.9 -d xu_ocean,120.,294.9 ocean_u_2014_12.nc ../trop_pac/ocean_u_2014_12.nc\\nSun Jul  7 21:06:47 2019: ncks -O -d yu_ocean,-15.0,15.0 -d xu_ocean,120.0,295.0 ocean_u_2014_12.nc trop_pac/ocean_u_2014_12.nc'),\n",
       "             ('NCO',\n",
       "              'netCDF Operators version 4.7.7 (Homepage = http://nco.sf.net, Code = http://github.com/nco/nco)')])"
      ]
     },
     "execution_count": 13,
     "metadata": {},
     "output_type": "execute_result"
    }
   ],
   "source": [
    "du.attrs"
   ]
  },
  {
   "cell_type": "code",
   "execution_count": null,
   "metadata": {},
   "outputs": [],
   "source": []
  }
 ],
 "metadata": {
  "kernelspec": {
   "display_name": "Python [conda env:analysis3-19.07]",
   "language": "python",
   "name": "conda-env-analysis3-19.07-py"
  },
  "language_info": {
   "codemirror_mode": {
    "name": "ipython",
    "version": 3
   },
   "file_extension": ".py",
   "mimetype": "text/x-python",
   "name": "python",
   "nbconvert_exporter": "python",
   "pygments_lexer": "ipython3",
   "version": "3.6.7"
  }
 },
 "nbformat": 4,
 "nbformat_minor": 2
}
