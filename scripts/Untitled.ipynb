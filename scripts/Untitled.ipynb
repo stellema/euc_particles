{
 "cells": [
  {
   "cell_type": "code",
   "execution_count": null,
   "metadata": {},
   "outputs": [],
   "source": [
    "\n",
    "import xarray as xr\n",
    "import numpy as np\n",
    "import pandas as pd\n",
    "from main import idx_1d, paths, print_time, ofam_fieldset\n",
    "from parcels import FieldSet, Field, JITParticle, ParticleSet\n",
    "from parcels import ScipyParticle, AdvectionRK4, ErrorCode\n",
    "import time\n",
    "from datetime import timedelta, datetime, date\n",
    "\n",
    "spath, fpath, dpath, data_path = paths()\n",
    "\n",
    "start = time.time()\n",
    "print_time()\n",
    "\n",
    "# Create the fieldset.\n",
    "fieldset = ofam_fieldset(time=[1, 2])\n",
    "\n",
    "lon = 179\n",
    "lat = [-4, 4]\n",
    "size = (abs(lat[0] - lat[-1]) + 1)*10\n",
    "depth = 300\n",
    "x = fieldset.U.depth_index(depth, 0, lon)\n",
    "depths = np.linspace(fieldset.U.depth[x], fieldset.U.depth[x], size)\n",
    "repeatdt = timedelta(days=6) # release from the same set of locations every 6 days\n",
    "\n",
    "pset = ParticleSet.from_line(fieldset=fieldset, size=size, pclass=JITParticle,\n",
    "                             start=(lon, lat[0]), finish=(lon, lat[-1]),\n",
    "                             depth=depths, repeatdt=repeatdt)\n",
    "print('Field time: {:.2f} mins'.format((start - time.time())/60))\n",
    "\n",
    "save_name = dpath + 'test_' + str(depth)\n",
    "output_file = pset.ParticleFile(name=save_name, outputdt=timedelta(hours=6))\n",
    "pset.execute(AdvectionRK4, runtime=timedelta(days=28),\n",
    "             dt=-timedelta(hours=6), output_file=output_file)\n",
    "print_time()\n",
    "print('Execution time: {:.2f} mins'.format((start - time.time())/60))"
   ]
  },
  {
   "cell_type": "code",
   "execution_count": null,
   "metadata": {},
   "outputs": [],
   "source": []
  }
 ],
 "metadata": {
  "kernelspec": {
   "display_name": "Python [conda env:analysis3-19.04]",
   "language": "python",
   "name": "conda-env-analysis3-19.04-py"
  },
  "language_info": {
   "codemirror_mode": {
    "name": "ipython",
    "version": 3
   },
   "file_extension": ".py",
   "mimetype": "text/x-python",
   "name": "python",
   "nbconvert_exporter": "python",
   "pygments_lexer": "ipython3",
   "version": "3.6.7"
  }
 },
 "nbformat": 4,
 "nbformat_minor": 2
}
