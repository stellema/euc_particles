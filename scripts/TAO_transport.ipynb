{
 "cells": [
  {
   "cell_type": "code",
   "execution_count": 1,
   "metadata": {},
   "outputs": [],
   "source": [
    "import sys\n",
    "sys.path.append('/g/data1a/e14/as3189/OFAM/scripts/')\n",
    "import gsw\n",
    "import numpy as np\n",
    "import xarray as xr\n",
    "from scipy import stats\n",
    "from pathlib import Path\n",
    "from scipy import interpolate\n",
    "import matplotlib.pyplot as plt\n",
    "from matplotlib.offsetbox import AnchoredText\n",
    "from matplotlib.colors import LinearSegmentedColormap\n",
    "\n",
    "from main_valid import open_tao_data, plot_tao_timeseries, cor_scatter_plot\n",
    "from main_valid import EUC_depths, plot_eq_velocity\n",
    "from main import paths, idx_1d, LAT_DEG, lx\n",
    "# Path to save figures, save data and OFAM model output.\n",
    "fpath, dpath, xpath, lpath, tpath = paths()\n"
   ]
  },
  {
   "cell_type": "markdown",
   "metadata": {},
   "source": [
    "# Plot multiple subplots"
   ]
  },
  {
   "cell_type": "code",
   "execution_count": 37,
   "metadata": {},
   "outputs": [
    {
     "ename": "TypeError",
     "evalue": "cannot directly convert an xarray.Dataset into a numpy array. Instead, create an xarray.DataArray first, either with indexing on the Dataset or by invoking the `to_array()` method.",
     "output_type": "error",
     "traceback": [
      "\u001b[0;31m---------------------------------------------------------------------------\u001b[0m",
      "\u001b[0;31mTypeError\u001b[0m                                 Traceback (most recent call last)",
      "\u001b[0;32m<ipython-input-37-bd2063496e3e>\u001b[0m in \u001b[0;36m<module>\u001b[0;34m\u001b[0m\n\u001b[1;32m      2\u001b[0m \u001b[0mds\u001b[0m \u001b[0;34m=\u001b[0m \u001b[0mopen_tao_data\u001b[0m\u001b[0;34m(\u001b[0m\u001b[0mfrq\u001b[0m\u001b[0;34m=\u001b[0m\u001b[0mlx\u001b[0m\u001b[0;34m[\u001b[0m\u001b[0;34m'frq_short'\u001b[0m\u001b[0;34m]\u001b[0m\u001b[0;34m[\u001b[0m\u001b[0mT\u001b[0m\u001b[0;34m]\u001b[0m\u001b[0;34m,\u001b[0m \u001b[0mdz\u001b[0m\u001b[0;34m=\u001b[0m\u001b[0mslice\u001b[0m\u001b[0;34m(\u001b[0m\u001b[0;36m10\u001b[0m\u001b[0;34m,\u001b[0m \u001b[0;36m360\u001b[0m\u001b[0;34m)\u001b[0m\u001b[0;34m)\u001b[0m\u001b[0;34m\u001b[0m\u001b[0;34m\u001b[0m\u001b[0m\n\u001b[1;32m      3\u001b[0m \u001b[0mds\u001b[0m\u001b[0;34m[\u001b[0m\u001b[0;36m0\u001b[0m\u001b[0;34m]\u001b[0m\u001b[0;34m.\u001b[0m\u001b[0mattrs\u001b[0m\u001b[0;34m[\u001b[0m\u001b[0;34m'array'\u001b[0m\u001b[0;34m]\u001b[0m\u001b[0;34m\u001b[0m\u001b[0;34m\u001b[0m\u001b[0m\n\u001b[0;32m----> 4\u001b[0;31m \u001b[0mu\u001b[0m \u001b[0;34m=\u001b[0m \u001b[0mnp\u001b[0m\u001b[0;34m.\u001b[0m\u001b[0mma\u001b[0m\u001b[0;34m.\u001b[0m\u001b[0mmasked_invalid\u001b[0m\u001b[0;34m(\u001b[0m\u001b[0mds\u001b[0m\u001b[0;34m[\u001b[0m\u001b[0;36m0\u001b[0m\u001b[0;34m]\u001b[0m\u001b[0;34m)\u001b[0m\u001b[0;34m\u001b[0m\u001b[0;34m\u001b[0m\u001b[0m\n\u001b[0m\u001b[1;32m      5\u001b[0m \u001b[0mhasattr\u001b[0m\u001b[0;34m(\u001b[0m\u001b[0mu\u001b[0m\u001b[0;34m,\u001b[0m \u001b[0;34m'Time'\u001b[0m\u001b[0;34m)\u001b[0m\u001b[0;34m\u001b[0m\u001b[0;34m\u001b[0m\u001b[0m\n",
      "\u001b[0;32m/g/data3/hh5/public/apps/miniconda3/envs/analysis3-19.07/lib/python3.6/site-packages/numpy/ma/core.py\u001b[0m in \u001b[0;36mmasked_invalid\u001b[0;34m(a, copy)\u001b[0m\n\u001b[1;32m   2356\u001b[0m \u001b[0;34m\u001b[0m\u001b[0m\n\u001b[1;32m   2357\u001b[0m     \"\"\"\n\u001b[0;32m-> 2358\u001b[0;31m     \u001b[0ma\u001b[0m \u001b[0;34m=\u001b[0m \u001b[0mnp\u001b[0m\u001b[0;34m.\u001b[0m\u001b[0marray\u001b[0m\u001b[0;34m(\u001b[0m\u001b[0ma\u001b[0m\u001b[0;34m,\u001b[0m \u001b[0mcopy\u001b[0m\u001b[0;34m=\u001b[0m\u001b[0mcopy\u001b[0m\u001b[0;34m,\u001b[0m \u001b[0msubok\u001b[0m\u001b[0;34m=\u001b[0m\u001b[0;32mTrue\u001b[0m\u001b[0;34m)\u001b[0m\u001b[0;34m\u001b[0m\u001b[0;34m\u001b[0m\u001b[0m\n\u001b[0m\u001b[1;32m   2359\u001b[0m     \u001b[0mmask\u001b[0m \u001b[0;34m=\u001b[0m \u001b[0mgetattr\u001b[0m\u001b[0;34m(\u001b[0m\u001b[0ma\u001b[0m\u001b[0;34m,\u001b[0m \u001b[0;34m'_mask'\u001b[0m\u001b[0;34m,\u001b[0m \u001b[0;32mNone\u001b[0m\u001b[0;34m)\u001b[0m\u001b[0;34m\u001b[0m\u001b[0;34m\u001b[0m\u001b[0m\n\u001b[1;32m   2360\u001b[0m     \u001b[0;32mif\u001b[0m \u001b[0mmask\u001b[0m \u001b[0;32mis\u001b[0m \u001b[0;32mnot\u001b[0m \u001b[0;32mNone\u001b[0m\u001b[0;34m:\u001b[0m\u001b[0;34m\u001b[0m\u001b[0;34m\u001b[0m\u001b[0m\n",
      "\u001b[0;32m/g/data3/hh5/public/apps/miniconda3/envs/analysis3-19.07/lib/python3.6/site-packages/xarray/core/dataset.py\u001b[0m in \u001b[0;36m__array__\u001b[0;34m(self, dtype)\u001b[0m\n\u001b[1;32m   1213\u001b[0m     \u001b[0;32mdef\u001b[0m \u001b[0m__array__\u001b[0m\u001b[0;34m(\u001b[0m\u001b[0mself\u001b[0m\u001b[0;34m,\u001b[0m \u001b[0mdtype\u001b[0m\u001b[0;34m=\u001b[0m\u001b[0;32mNone\u001b[0m\u001b[0;34m)\u001b[0m\u001b[0;34m:\u001b[0m\u001b[0;34m\u001b[0m\u001b[0;34m\u001b[0m\u001b[0m\n\u001b[1;32m   1214\u001b[0m         raise TypeError(\n\u001b[0;32m-> 1215\u001b[0;31m             \u001b[0;34m\"cannot directly convert an xarray.Dataset into a \"\u001b[0m\u001b[0;34m\u001b[0m\u001b[0;34m\u001b[0m\u001b[0m\n\u001b[0m\u001b[1;32m   1216\u001b[0m             \u001b[0;34m\"numpy array. Instead, create an xarray.DataArray \"\u001b[0m\u001b[0;34m\u001b[0m\u001b[0;34m\u001b[0m\u001b[0m\n\u001b[1;32m   1217\u001b[0m             \u001b[0;34m\"first, either with indexing on the Dataset or by \"\u001b[0m\u001b[0;34m\u001b[0m\u001b[0;34m\u001b[0m\u001b[0m\n",
      "\u001b[0;31mTypeError\u001b[0m: cannot directly convert an xarray.Dataset into a numpy array. Instead, create an xarray.DataArray first, either with indexing on the Dataset or by invoking the `to_array()` method."
     ]
    }
   ],
   "source": [
    "T = 1\n",
    "ds = open_tao_data(frq=lx['frq_short'][T], dz=slice(10, 360))\n",
    "ds[0].attrs['array']\n",
    "u = np.ma.masked_invalid(ds[0])\n",
    "hasattr(u, 'Time')"
   ]
  },
  {
   "cell_type": "markdown",
   "metadata": {},
   "source": [
    "# Interpolating OFAM3 depth to every 5 m\n"
   ]
  },
  {
   "cell_type": "code",
   "execution_count": 23,
   "metadata": {},
   "outputs": [
    {
     "data": {
      "text/plain": [
       "array([        nan,         nan,         nan,         nan, -0.2241077 ,\n",
       "       -0.10729849, -0.06175052, -0.01560109,  0.03550928,  0.09280071,\n",
       "        0.16594538,  0.24883835,  0.34268868,  0.4464438 ,  0.55731237,\n",
       "        0.67626542,  0.78920561,  0.88975161,  0.95700026,  0.99680716,\n",
       "        1.0050714 ,  0.98722261,  0.95742345,  0.92072505,  0.88559896,\n",
       "        0.8523742 ,  0.81850386,  0.78312469,  0.74442291,  0.70517695,\n",
       "        0.66717863,  0.63181657,  0.60003513,  0.5681082 ,  0.53437793,\n",
       "        0.49205089,  0.44270709,  0.38866565,  0.3367244 ,  0.29194206,\n",
       "        0.25647962,  0.22806311,  0.20708391,  0.18962742,  0.1756864 ,\n",
       "        0.16114131,  0.14590985,  0.12908368,  0.11358575,  0.09936476,\n",
       "               nan,         nan,         nan,         nan,         nan,\n",
       "               nan,         nan,         nan,         nan,         nan,\n",
       "               nan,         nan,         nan,         nan,         nan,\n",
       "               nan,         nan,         nan,         nan,         nan,\n",
       "               nan])"
      ]
     },
     "execution_count": 23,
     "metadata": {},
     "output_type": "execute_result"
    }
   ],
   "source": [
    "du = ds[1].u_1205\n",
    "t = -1\n",
    "y = du[t].values\n",
    "x = du[t].depth.values\n",
    "\n",
    "f = interpolate.interp1d(x, y, kind='slinear')\n",
    "z = np.arange(10, x[-1]+1, 5)\n",
    "f(z)"
   ]
  },
  {
   "cell_type": "code",
   "execution_count": 24,
   "metadata": {},
   "outputs": [],
   "source": [
    "files = []\n",
    "for y in range(lx['years'][0][0], lx['years'][0][1]+1):\n",
    "    for m in range(1, 13):\n",
    "        files.append(str(xpath.joinpath('ocean_u_{}_{:02d}.nc'.format(y, m))))"
   ]
  },
  {
   "cell_type": "code",
   "execution_count": 27,
   "metadata": {},
   "outputs": [],
   "source": [
    "df = xr.open_mfdataset(files, combine='by_coords')"
   ]
  },
  {
   "cell_type": "code",
   "execution_count": 369,
   "metadata": {},
   "outputs": [
    {
     "data": {
      "text/plain": [
       "<xarray.DataArray 'st_ocean' (st_ocean: 51)>\n",
       "array([   2.5     ,    7.5     ,   12.5     ,   17.51539 ,   22.667021,\n",
       "         28.16938 ,   34.218006,   40.954975,   48.454975,   56.718006,\n",
       "         65.66938 ,   75.167023,   85.015388,   95.      ,  105.      ,\n",
       "        115.      ,  125.      ,  135.      ,  145.      ,  155.      ,\n",
       "        165.      ,  175.      ,  185.      ,  195.      ,  205.189896,\n",
       "        217.054489,  233.194321,  255.884232,  286.608978,  325.884216,\n",
       "        373.194336,  427.054474,  485.189911,  545.511108,  610.415649,\n",
       "        685.926758,  775.926758,  880.415649,  995.511108, 1115.313354,\n",
       "       1238.353882, 1368.157471, 1507.733887, 1658.157471, 1818.353882,\n",
       "       1985.313354, 2165.180176, 2431.101074, 2894.841797, 3603.101074,\n",
       "       4509.180176])\n",
       "Coordinates:\n",
       "  * st_ocean  (st_ocean) float64 2.5 7.5 12.5 ... 2.895e+03 3.603e+03 4.509e+03\n",
       "Attributes:\n",
       "    long_name:       tcell zstar depth\n",
       "    units:           meters\n",
       "    cartesian_axis:  Z\n",
       "    positive:        down\n",
       "    edges:           st_edges_ocean"
      ]
     },
     "execution_count": 369,
     "metadata": {},
     "output_type": "execute_result"
    }
   ],
   "source": [
    "df.st_ocean"
   ]
  },
  {
   "cell_type": "code",
   "execution_count": 22,
   "metadata": {},
   "outputs": [],
   "source": [
    "df = df.sel(xu_ocean=[165, 190, 220], yu_ocean=slice(-2.6, 2.6), st_ocean=slice(2.5, 485))\n",
    "# Calculate the monthly mean.\n",
    "df = ds.resample(Time=\"MS\").mean()\n",
    "# New depth levels to interpolate to.\n",
    "z = np.arange(10, 360, 5)\n"
   ]
  },
  {
   "cell_type": "code",
   "execution_count": 23,
   "metadata": {},
   "outputs": [],
   "source": [
    "di = df.interp(st_ocean=z, method='slinear')\n",
    "# di = df.interp(st_ocean=z, method='cubic')"
   ]
  },
  {
   "cell_type": "code",
   "execution_count": 21,
   "metadata": {},
   "outputs": [
    {
     "name": "stdout",
     "output_type": "stream",
     "text": [
      "[0.46271968 0.46586996 0.45597607 0.43525302 0.39988112 0.34530216\n",
      " 0.27098468 0.1903272  0.135768  ]\n",
      "[-0.60045663 -0.58711087 -0.57451055 -0.56089287 -0.54670889 -0.5327543\n",
      " -0.52091785 -0.51206265 -0.5045967  -0.49866349 -0.491622   -0.48400037\n",
      " -0.47147061 -0.4581822  -0.44004657 -0.42174343 -0.3951818  -0.36859468\n",
      " -0.33427121 -0.29994774 -0.25206812 -0.2041885  -0.12318155 -0.0421746\n",
      "  0.0514483   0.14507121  0.19037151  0.2356718   0.27720649  0.31874117\n",
      "  0.35463491  0.39052865  0.41509114  0.43965364  0.45118666  0.46271968\n",
      "  0.46429482  0.46586996  0.46101521  0.45616045  0.4475746   0.43884145\n",
      "  0.42879767  0.41783972  0.40688177  0.39553769  0.38351055  0.37148341\n",
      "  0.35945626  0.34742912  0.33534688  0.32325281  0.31115873  0.29906465\n",
      "  0.28697058  0.2748765   0.26402072  0.25375248  0.24348425  0.23321601\n",
      "  0.22294777  0.21267954  0.2024113   0.19214307  0.18558077  0.17981465\n",
      "  0.17404853  0.1682824   0.16251628  0.15675015]\n"
     ]
    }
   ],
   "source": [
    "# # Test to chack interpolation depths.\n",
    "# t = 0\n",
    "print(df.u[0].sel(xu_ocean=190.,st_ocean=slice(185, 373.194336))[:, 26].values)\n",
    "print(di.u[0].sel(xu_ocean=190.,st_ocean=slice(10, 355))[:, 26].values)"
   ]
  },
  {
   "cell_type": "code",
   "execution_count": 24,
   "metadata": {},
   "outputs": [
    {
     "name": "stdout",
     "output_type": "stream",
     "text": [
      "[        nan -0.58711087 -0.57451055 -0.56089287 -0.54670889 -0.5327543\n",
      " -0.52091785 -0.51206265 -0.5045967  -0.49866349 -0.491622   -0.48400037\n",
      " -0.47147061 -0.4581822  -0.44004657 -0.42174343 -0.3951818  -0.36859468\n",
      " -0.33427121 -0.29994774 -0.25206812 -0.2041885  -0.12318155 -0.0421746\n",
      "  0.0514483   0.14507121  0.19037151  0.2356718   0.27720649  0.31874117\n",
      "  0.35463491  0.39052865  0.41509114  0.43965364  0.45118666  0.46271968\n",
      "  0.46429482  0.46586996  0.46101521  0.45616045  0.4475746   0.43884145\n",
      "  0.42879767  0.41783972  0.40688177  0.39553769  0.38351055  0.37148341\n",
      "  0.35945626  0.34742912  0.33534688  0.32325281  0.31115873  0.29906465\n",
      "  0.28697058  0.2748765   0.26402072  0.25375248  0.24348425  0.23321601\n",
      "  0.22294777  0.21267954  0.2024113   0.19214307         nan         nan\n",
      "         nan         nan         nan         nan]\n"
     ]
    }
   ],
   "source": [
    "# Slice before inter\n",
    "print(di.u[0].sel(xu_ocean=190.,st_ocean=slice(10, 355))[:, 26].values)"
   ]
  },
  {
   "cell_type": "markdown",
   "metadata": {},
   "source": [
    "# Calculating transport"
   ]
  },
  {
   "cell_type": "code",
   "execution_count": 11,
   "metadata": {},
   "outputs": [],
   "source": [
    "# Area = metres in a degree of latitude x cell width x cell depth\n",
    "area = LAT_DEG*0.1*5\n",
    "\n",
    "# Multiply each grid cell by the constant.\n",
    "dt = (di*area).sum(dim='yu_ocean').u.sel(st_ocean=slice(10, 355))\n",
    "dt"
   ]
  },
  {
   "cell_type": "code",
   "execution_count": 19,
   "metadata": {},
   "outputs": [],
   "source": [
    "T = 1\n",
    "d3 = xr.open_dataset(dpath.joinpath('ofam_ocean_u_EUC_int_transport.nc'))"
   ]
  },
  {
   "cell_type": "code",
   "execution_count": 627,
   "metadata": {},
   "outputs": [
    {
     "name": "stdout",
     "output_type": "stream",
     "text": [
      "165: Min velocity=0.1, included=74, total=202, skipped=107, Empty=21, eps=0.05\n",
      "190: Min velocity=0.1, included=167, total=296, skipped=88, Empty=41, eps=0.05\n",
      "220: Min velocity=0.1, included=200, total=272, skipped=43, Empty=29, eps=0.05\n"
     ]
    }
   ],
   "source": [
    "min_v = 0.1 # m/s\n",
    "eps = np.round(min_v/2, 3)\n",
    "\n",
    "for i, lon in enumerate(lons):\n",
    "    du = [du_165, du_190, du_220][i]\n",
    "    lon=lons[i]\n",
    "    du = du.isel(time=slice(time_bnds_tao[i][0], time_bnds_tao[i][1])).sel(depth=slice(50, 355))\n",
    "    umx, depths = lower_depths(du, i, min_v=min_v, eps=eps, index=True)\n",
    "    tmp = np.ma.where(np.isnan(depths) == False)[0]\n",
    "    xp = du.sel(depth=50).copy()*np.nan\n",
    "    xp_165 = xp.copy()\n",
    "    xp_190 = xp.copy()\n",
    "    xp_220 = xp.copy()\n",
    "    for t in tmp:\n",
    "        r = du[t, 0:int(depths[t])+1]*5\n",
    "        r = r.where(r > 0, 0)\n",
    "        xp[t] = np.sum(r).item()\n",
    "    if i == 0:\n",
    "        xp_165 = xp\n",
    "    elif i == 1:\n",
    "        xp_190 = xp\n",
    "    elif i == 2:\n",
    "        xp_220 = xp"
   ]
  },
  {
   "cell_type": "code",
   "execution_count": 619,
   "metadata": {},
   "outputs": [
    {
     "name": "stdout",
     "output_type": "stream",
     "text": [
      "41.0 125.0 0.08906452357769012\n"
     ]
    },
    {
     "data": {
      "text/plain": [
       "84.93547821044922"
      ]
     },
     "execution_count": 619,
     "metadata": {},
     "output_type": "execute_result"
    }
   ],
   "source": [
    "\n",
    "t=15636501 \n",
    "print(depths[t], du.depth[t].item(), du[t, int(depths[t])].item())\n",
    "r = du[t, 0:int(depths[t])+1]*5\n",
    "r = r.where(r > 0, 0)\n",
    "np.sum(r).item()"
   ]
  },
  {
   "cell_type": "code",
   "execution_count": 626,
   "metadata": {},
   "outputs": [
    {
     "data": {
      "text/plain": [
       "<xarray.DataArray 'u_1205' (time: 296)>\n",
       "array([       nan,        nan,        nan,        nan,        nan,\n",
       "              nan,        nan,        nan,        nan,        nan,\n",
       "              nan,        nan,        nan,        nan, 24.04854  ,\n",
       "       19.53516  , 22.334856 , 22.086304 ,        nan,        nan,\n",
       "        5.3279314,  7.802441 , 10.47663  , 18.80938  , 23.878302 ,\n",
       "       31.664022 , 29.151312 , 19.522327 , 15.455922 , 17.53414  ,\n",
       "       18.130404 , 10.892059 ,  5.434436 , 10.715124 , 24.181532 ,\n",
       "       24.1427   , 28.36451  , 19.023281 , 23.589392 , 17.431252 ,\n",
       "       12.172214 ,  6.5705805,        nan, 10.84821  , 10.390587 ,\n",
       "       10.881854 , 14.510607 , 16.015322 , 24.42754  , 22.541744 ,\n",
       "       25.633165 , 21.182425 , 20.113651 , 15.146779 ,        nan,\n",
       "       12.418961 ,  9.779358 ,        nan,        nan, 17.315077 ,\n",
       "              nan, 21.203625 , 19.801292 , 20.027351 ,  9.334474 ,\n",
       "       15.518783 , 12.924306 , 15.432197 , 11.831008 ,        nan,\n",
       "              nan,        nan,        nan, 26.453316 , 25.26487  ,\n",
       "       19.18081  , 11.126116 ,  7.641083 , 13.189255 , 13.557867 ,\n",
       "        4.2432594, 10.433375 , 18.007832 , 31.05191  ,        nan,\n",
       "       24.754536 , 26.358833 , 26.19839  , 28.404806 , 26.069387 ,\n",
       "       21.474009 ,        nan,        nan,        nan,        nan,\n",
       "              nan,        nan, 27.362509 , 25.629473 , 27.416706 ,\n",
       "       24.632883 , 25.462782 , 25.701769 , 23.877768 ,        nan,\n",
       "       10.614254 ,        nan, 17.369217 , 13.930387 ,        nan,\n",
       "       21.616138 ,        nan,        nan,        nan,        nan,\n",
       "       12.964507 , 15.911141 , 14.776679 , 21.972713 , 25.679651 ,\n",
       "              nan,        nan, 26.836473 , 24.289854 , 24.804926 ,\n",
       "       26.812658 , 29.833185 , 21.203032 ,        nan, 29.776497 ,\n",
       "       39.95652  , 41.503372 , 42.7958   , 35.733418 , 23.287483 ,\n",
       "              nan,        nan,        nan, 29.17879  , 25.677755 ,\n",
       "       19.528    , 20.042559 , 32.205193 , 33.204754 , 39.31319  ,\n",
       "       27.60406  , 26.917107 , 19.640327 , 23.55932  , 17.497585 ,\n",
       "       24.509377 , 21.527887 , 18.494596 , 25.613705 , 34.997097 ,\n",
       "       31.31481  , 36.673317 , 26.127548 , 28.069052 , 14.884079 ,\n",
       "       15.503762 , 23.412184 , 19.61252  , 24.687607 ,  7.995987 ,\n",
       "       12.630654 , 20.70241  , 20.595772 , 27.817759 , 23.951328 ,\n",
       "       26.443428 , 13.736864 ,        nan,        nan,  4.489868 ,\n",
       "        6.729837 ,        nan,        nan,        nan,        nan,\n",
       "              nan,        nan, 20.00529  , 22.384233 , 16.187782 ,\n",
       "       23.092962 , 21.648712 , 17.036697 ,        nan, 12.469847 ,\n",
       "              nan,        nan, 20.308817 ,        nan, 20.359879 ,\n",
       "       17.846443 , 10.281996 ,        nan, 15.100613 ,        nan,\n",
       "       11.470249 ,        nan,  8.041392 ,        nan, 30.958557 ,\n",
       "       26.518156 , 24.944496 , 24.870493 , 19.643114 , 25.186749 ,\n",
       "              nan, 22.470963 ,        nan,        nan,        nan,\n",
       "              nan,        nan, 28.347061 ,        nan,        nan,\n",
       "              nan,        nan,        nan,        nan,        nan,\n",
       "              nan,        nan,        nan,        nan,        nan,\n",
       "              nan,        nan,        nan,        nan,        nan,\n",
       "              nan,        nan,        nan,        nan,        nan,\n",
       "              nan,        nan,        nan,        nan,        nan,\n",
       "              nan,        nan,        nan,        nan,        nan,\n",
       "              nan,        nan,        nan, 22.504986 , 22.66166  ,\n",
       "       19.405056 ,        nan,        nan,        nan,        nan,\n",
       "              nan,        nan,        nan,        nan,        nan,\n",
       "              nan,        nan, 25.964808 ,        nan,        nan,\n",
       "              nan,        nan,        nan,        nan,        nan,\n",
       "              nan,        nan,        nan, 29.223082 , 24.125929 ,\n",
       "       19.73229  ,        nan, 25.196123 , 24.674818 ,        nan,\n",
       "              nan,        nan,        nan, 25.711382 , 30.295637 ,\n",
       "       24.161964 , 19.230726 , 24.394054 , 24.108528 , 15.161019 ,\n",
       "              nan], dtype=float32)\n",
       "Coordinates:\n",
       "  * time     (time) datetime64[ns] 1988-05-16T12:00:00 ... 2012-12-16T12:00:00\n",
       "    depth    float32 50.0\n",
       "    lat      float32 0.0\n",
       "    lon      float32 190.0"
      ]
     },
     "execution_count": 626,
     "metadata": {},
     "output_type": "execute_result"
    }
   ],
   "source": [
    "xp*230*1000/1e6"
   ]
  },
  {
   "cell_type": "code",
   "execution_count": null,
   "metadata": {},
   "outputs": [],
   "source": []
  }
 ],
 "metadata": {
  "kernelspec": {
   "display_name": "Python [conda env:analysis3-19.07]",
   "language": "python",
   "name": "conda-env-analysis3-19.07-py"
  },
  "language_info": {
   "codemirror_mode": {
    "name": "ipython",
    "version": 3
   },
   "file_extension": ".py",
   "mimetype": "text/x-python",
   "name": "python",
   "nbconvert_exporter": "python",
   "pygments_lexer": "ipython3",
   "version": "3.6.7"
  }
 },
 "nbformat": 4,
 "nbformat_minor": 2
}
